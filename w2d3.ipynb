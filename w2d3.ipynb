{
 "cells": [
  {
   "cell_type": "code",
   "execution_count": 9,
   "id": "initial_id",
   "metadata": {
    "ExecuteTime": {
     "end_time": "2024-07-17T17:06:13.912536Z",
     "start_time": "2024-07-17T17:06:13.877390Z"
    }
   },
   "outputs": [],
   "source": [
    "import numpy as np\n",
    "import matplotlib.pyplot as plt\n",
    "import ipywidgets as widgets  # interactive display\n"
   ]
  },
  {
   "cell_type": "code",
   "execution_count": 10,
   "id": "1605409f6535e2c",
   "metadata": {
    "ExecuteTime": {
     "end_time": "2024-07-17T17:44:06.852133Z",
     "start_time": "2024-07-17T17:44:06.847598Z"
    },
    "collapsed": false
   },
   "outputs": [],
   "source": [
    "my_layout = widgets.Layout()\n",
    "\n",
    "def plot_volt_trace(pars, v, sp):\n",
    "    \"\"\"\n",
    "    Plot trajetory of membrane potential for a single neuron\n",
    "  \n",
    "    Expects:\n",
    "    pars   : parameter dictionary\n",
    "    v      : volt trajetory\n",
    "    sp     : spike train\n",
    "  \n",
    "    Returns:\n",
    "    figure of the membrane potential trajetory for a single neuron\n",
    "    \"\"\"\n",
    "\n",
    "    V_th = pars['V_th']\n",
    "    dt, range_t = pars['dt'], pars['range_t']\n",
    "    if sp.size:\n",
    "        sp_num = (sp / dt).astype(int) - 1\n",
    "        v[sp_num] += 20  # draw nicer spikes\n",
    "\n",
    "    plt.plot(pars['range_t'], v, 'b')\n",
    "    plt.axhline(V_th, 0, 1, color='k', ls='--')\n",
    "    plt.xlabel('Time (ms)')\n",
    "    plt.ylabel('V (mV)')\n",
    "    plt.legend(['Membrane\\npotential', r'Threshold V$_{\\mathrm{th}}$'],\n",
    "               loc=[1.05, 0.75])\n",
    "    plt.ylim([-80, -40])\n",
    "    plt.show()\n",
    "\n",
    "\n",
    "def plot_GWN(pars, I_GWN):\n",
    "    \"\"\"\n",
    "    Args:\n",
    "      pars  : parameter dictionary\n",
    "      I_GWN : Gaussian white noise input\n",
    "  \n",
    "    Returns:\n",
    "      figure of the gaussian white noise input\n",
    "    \"\"\"\n",
    "\n",
    "    plt.figure(figsize=(12, 4))\n",
    "    plt.subplot(121)\n",
    "    plt.plot(pars['range_t'][::3], I_GWN[::3], 'b')\n",
    "    plt.xlabel('Time (ms)')\n",
    "    plt.ylabel(r'$I_{GWN}$ (pA)')\n",
    "    plt.subplot(122)\n",
    "    plot_volt_trace(pars, v, sp)\n",
    "    plt.tight_layout()\n",
    "    plt.show()\n",
    "\n",
    "\n",
    "def my_hists(isi1, isi2, cv1, cv2, sigma1, sigma2):\n",
    "    \"\"\"\n",
    "    Args:\n",
    "      isi1 : vector with inter-spike intervals\n",
    "      isi2 : vector with inter-spike intervals\n",
    "      cv1  : coefficient of variation for isi1\n",
    "      cv2  : coefficient of variation for isi2\n",
    "  \n",
    "    Returns:\n",
    "      figure with two histograms, isi1, isi2\n",
    "  \n",
    "    \"\"\"\n",
    "    plt.figure(figsize=(11, 4))\n",
    "    my_bins = np.linspace(10, 30, 20)\n",
    "    plt.subplot(121)\n",
    "    plt.hist(isi1, bins=my_bins, color='b', alpha=0.5)\n",
    "    plt.xlabel('ISI (ms)')\n",
    "    plt.ylabel('count')\n",
    "    plt.title(r'$\\sigma_{GWN}=$%.1f, CV$_{\\mathrm{isi}}$=%.3f' % (sigma1, cv1))\n",
    "\n",
    "    plt.subplot(122)\n",
    "    plt.hist(isi2, bins=my_bins, color='b', alpha=0.5)\n",
    "    plt.xlabel('ISI (ms)')\n",
    "    plt.ylabel('count')\n",
    "    plt.title(r'$\\sigma_{GWN}=$%.1f, CV$_{\\mathrm{isi}}$=%.3f' % (sigma2, cv2))\n",
    "    plt.tight_layout()\n",
    "    plt.show()"
   ]
  },
  {
   "cell_type": "code",
   "execution_count": 11,
   "id": "3cae250020c02bd5",
   "metadata": {
    "ExecuteTime": {
     "end_time": "2024-07-17T17:44:07.884347Z",
     "start_time": "2024-07-17T17:44:07.879567Z"
    },
    "collapsed": false
   },
   "outputs": [
    {
     "name": "stdout",
     "output_type": "stream",
     "text": [
      "{'V_th': -55.0, 'V_reset': -75.0, 'tau_m': 10.0, 'g_L': 10.0, 'V_init': -75.0, 'E_L': -75.0, 'tref': 2.0, 'T': 400.0, 'dt': 0.1, 'range_t': array([0.000e+00, 1.000e-01, 2.000e-01, ..., 3.997e+02, 3.998e+02,\n",
      "       3.999e+02])}\n"
     ]
    }
   ],
   "source": [
    "def default_pars(**kwargs):\n",
    "    pars = {}\n",
    "\n",
    "    # typical neuron parameters#\n",
    "    pars['V_th'] = -55.     # spike threshold [mV]\n",
    "    pars['V_reset'] = -75.  # reset potential [mV]\n",
    "    pars['tau_m'] = 10.     # membrane time constant [ms]\n",
    "    pars['g_L'] = 10.       # leak conductance [nS]\n",
    "    pars['V_init'] = -75.   # initial potential [mV]\n",
    "    pars['E_L'] = -75.      # leak reversal potential [mV]\n",
    "    pars['tref'] = 2.       # refractory time (ms)\n",
    "\n",
    "    # simulation parameters #\n",
    "    pars['T'] = 400.  # Total duration of simulation [ms]\n",
    "    pars['dt'] = .1   # Simulation time step [ms]\n",
    "\n",
    "    # external parameters if any #\n",
    "    for k in kwargs:\n",
    "        pars[k] = kwargs[k]\n",
    "\n",
    "    pars['range_t'] = np.arange(0, pars['T'], pars['dt'])  # Vector of discretized time points [ms]\n",
    "\n",
    "    return pars\n",
    "\n",
    "\n",
    "pars = default_pars()\n",
    "print(pars)"
   ]
  },
  {
   "cell_type": "code",
   "execution_count": 12,
   "id": "dbc3dfe7aa351fa",
   "metadata": {
    "ExecuteTime": {
     "end_time": "2024-07-17T17:44:08.534173Z",
     "start_time": "2024-07-17T17:44:08.435272Z"
    },
    "collapsed": false
   },
   "outputs": [
    {
     "data": {
      "image/png": "[encoded data removed]",
      "text/plain": [
       "<Figure size 640x480 with 1 Axes>"
      ]
     },
     "metadata": {},
     "output_type": "display_data"
    }
   ],
   "source": [
    "def run_LIF(pars, Iinj, stop=False):\n",
    "    \"\"\"\n",
    "    Simulate the LIF dynamics with external input current\n",
    "  \n",
    "    Args:\n",
    "      pars       : parameter dictionary\n",
    "      Iinj       : input current [pA]. The injected current here can be a value\n",
    "                   or an array\n",
    "      stop       : boolean. If True, use a current pulse\n",
    "  \n",
    "    Returns:\n",
    "      rec_v      : membrane potential\n",
    "      rec_sp     : spike times\n",
    "    \"\"\"\n",
    "\n",
    "    # Set parameters\n",
    "    V_th, V_reset = pars['V_th'], pars['V_reset']\n",
    "    tau_m, g_L = pars['tau_m'], pars['g_L']\n",
    "    V_init, E_L = pars['V_init'], pars['E_L']\n",
    "    dt, range_t = pars['dt'], pars['range_t']\n",
    "    Lt = range_t.size\n",
    "    tref = pars['tref']\n",
    "\n",
    "    # Initialize voltage\n",
    "    v = np.zeros(Lt)\n",
    "    v[0] = V_init\n",
    "\n",
    "    # Set current time course\n",
    "    Iinj = Iinj * np.ones(Lt)\n",
    "\n",
    "    # If current pulse, set beginning and end to 0\n",
    "    if stop:\n",
    "        Iinj[:int(len(Iinj) / 2) - 1000] = 0\n",
    "        Iinj[int(len(Iinj) / 2) + 1000:] = 0\n",
    "\n",
    "    # Loop over time\n",
    "    rec_spikes = []  # record spike times\n",
    "    tr = 0.  # the count for refractory duration\n",
    "\n",
    "    for it in range(Lt - 1):\n",
    "\n",
    "        if tr > 0:  # check if in refractory period\n",
    "            v[it] = V_reset  # set voltage to reset\n",
    "            tr = tr - 1 # reduce running counter of refractory period\n",
    "\n",
    "        elif v[it] >= V_th:  # if voltage over threshold\n",
    "            rec_spikes.append(it)  # record spike event\n",
    "            v[it] = V_reset  # reset voltage\n",
    "            tr = tref / dt  # set refractory time\n",
    "\n",
    "        # Calculate the increment of the membrane potential\n",
    "        dv = dt / tau_m * (Iinj[it] / g_L - (v[it] - E_L)) \n",
    "\n",
    "        # Update the membrane potential\n",
    "        v[it + 1] = v[it] + dv \n",
    "\n",
    "    # Get spike times in ms\n",
    "    rec_spikes = np.array(rec_spikes) * dt\n",
    "\n",
    "    return v, rec_spikes\n",
    "\n",
    "\n",
    "# Get parameters\n",
    "pars = default_pars(T=500)\n",
    "\n",
    "# Simulate LIF model\n",
    "v, sp = run_LIF(pars, Iinj=100, stop=True)\n",
    "\n",
    "# Visualize\n",
    "plot_volt_trace(pars, v, sp)"
   ]
  },
  {
   "cell_type": "code",
   "execution_count": 13,
   "id": "e0c687aa77a3aad8",
   "metadata": {
    "ExecuteTime": {
     "end_time": "2024-07-17T17:44:09.376334Z",
     "start_time": "2024-07-17T17:44:09.305041Z"
    },
    "collapsed": false
   },
   "outputs": [
    {
     "data": {
      "application/vnd.jupyter.widget-view+json": {
       "model_id": "12534a9eb3d945dea7c031f824805d12",
       "version_major": 2,
       "version_minor": 0
      },
      "text/plain": [
       "interactive(children=(FloatSlider(value=50.0, description='I_dc', layout=Layout(width='450px'), max=300.0, ste…"
      ]
     },
     "metadata": {},
     "output_type": "display_data"
    }
   ],
   "source": [
    "my_layout.width = '450px'\n",
    "@widgets.interact(\n",
    "    I_dc=widgets.FloatSlider(50., min=0., max=300., step=10.,\n",
    "                             layout=my_layout),\n",
    "    tau_m=widgets.FloatSlider(10., min=2., max=20., step=2.,\n",
    "                              layout=my_layout)\n",
    ")\n",
    "\n",
    "def diff_DC(I_dc=200., tau_m=10.):\n",
    "    pars = default_pars(T=100.)\n",
    "    pars['tau_m'] = tau_m\n",
    "    v, sp = run_LIF(pars, Iinj=I_dc)\n",
    "    plot_volt_trace(pars, v, sp)\n",
    "    plt.show()"
   ]
  },
  {
   "cell_type": "code",
   "execution_count": 14,
   "id": "6e18ba923725ea41",
   "metadata": {
    "ExecuteTime": {
     "end_time": "2024-07-17T17:54:23.385042Z",
     "start_time": "2024-07-17T17:54:23.360492Z"
    },
    "collapsed": false
   },
   "outputs": [
    {
     "name": "stdout",
     "output_type": "stream",
     "text": [
      "Help on function my_GWN in module __main__:\n",
      "\n",
      "my_GWN(pars, mu, sig, myseed=False)\n",
      "    Function that generates Gaussian white noise input\n",
      "    \n",
      "    Args:\n",
      "      pars       : parameter dictionary\n",
      "      mu         : noise baseline (mean)\n",
      "      sig        : noise amplitute (standard deviation)\n",
      "      myseed     : random seed. int or boolean\n",
      "                   the same seed will give the same\n",
      "                   random number sequence\n",
      "    \n",
      "    Returns:\n",
      "      I          : Gaussian white noise input\n"
     ]
    }
   ],
   "source": [
    "def my_GWN(pars, mu, sig, myseed=False):\n",
    "    \"\"\"\n",
    "    Function that generates Gaussian white noise input\n",
    "  \n",
    "    Args:\n",
    "      pars       : parameter dictionary\n",
    "      mu         : noise baseline (mean)\n",
    "      sig        : noise amplitute (standard deviation)\n",
    "      myseed     : random seed. int or boolean\n",
    "                   the same seed will give the same\n",
    "                   random number sequence\n",
    "  \n",
    "    Returns:\n",
    "      I          : Gaussian white noise input\n",
    "    \"\"\"\n",
    "\n",
    "    # Retrieve simulation parameters\n",
    "    dt, range_t = pars['dt'], pars['range_t']\n",
    "    Lt = range_t.size\n",
    "\n",
    "    # Set random seed\n",
    "    if myseed:\n",
    "        np.random.seed(seed=myseed)\n",
    "    else:\n",
    "        np.random.seed()\n",
    "\n",
    "    # Generate GWN\n",
    "    # we divide here by 1000 to convert units to sec.\n",
    "    I_gwn = mu + sig * np.random.randn(Lt) / np.sqrt(dt / 1000.)\n",
    "\n",
    "    return I_gwn\n",
    "\n",
    "help(my_GWN)"
   ]
  },
  {
   "cell_type": "code",
   "execution_count": 15,
   "id": "d94ed18206e9fa32",
   "metadata": {
    "ExecuteTime": {
     "end_time": "2024-07-17T17:55:56.539116Z",
     "start_time": "2024-07-17T17:55:56.390777Z"
    },
    "collapsed": false
   },
   "outputs": [
    {
     "data": {
      "application/vnd.jupyter.widget-view+json": {
       "model_id": "d99c4082b78f418f938676c7985faf87",
       "version_major": 2,
       "version_minor": 0
      },
      "text/plain": [
       "interactive(children=(FloatSlider(value=200.0, description='mu_gwn', layout=Layout(width='450px'), max=300.0, …"
      ]
     },
     "metadata": {},
     "output_type": "display_data"
    }
   ],
   "source": [
    "my_layout.width = '450px'\n",
    "@widgets.interact(\n",
    "    mu_gwn=widgets.FloatSlider(200., min=100., max=300., step=5.,\n",
    "                               layout=my_layout),\n",
    "    sig_gwn=widgets.FloatSlider(2.5, min=0., max=5., step=.5,\n",
    "                                layout=my_layout)\n",
    ")\n",
    "\n",
    "\n",
    "def diff_GWN_to_LIF(mu_gwn, sig_gwn):\n",
    "    pars = default_pars(T=100.)\n",
    "    I_GWN = my_GWN(pars, mu=mu_gwn, sig=sig_gwn)\n",
    "    v, sp = run_LIF(pars, Iinj=I_GWN)\n",
    "    plt.figure(figsize=(12, 4))\n",
    "    plt.subplot(121)\n",
    "    plt.plot(pars['range_t'][::3], I_GWN[::3], 'b')\n",
    "    plt.xlabel('Time (ms)')\n",
    "    plt.ylabel(r'$I_{GWN}$ (pA)')\n",
    "    plt.subplot(122)\n",
    "    plot_volt_trace(pars, v, sp)\n",
    "    plt.tight_layout()\n",
    "    plt.show()"
   ]
  },
  {
   "cell_type": "code",
   "execution_count": 16,
   "id": "4f866a4027a24a7a",
   "metadata": {
    "ExecuteTime": {
     "end_time": "2024-07-17T18:04:29.427682Z",
     "start_time": "2024-07-17T18:04:29.124784Z"
    },
    "collapsed": false
   },
   "outputs": [
    {
     "data": {
      "application/vnd.jupyter.widget-view+json": {
       "model_id": "d6c5f4e57929431a9382889441e1594c",
       "version_major": 2,
       "version_minor": 0
      },
      "text/plain": [
       "interactive(children=(FloatSlider(value=3.0, description='sig_gwn', layout=Layout(width='450px'), max=6.0, ste…"
      ]
     },
     "metadata": {},
     "output_type": "display_data"
    }
   ],
   "source": [
    "my_layout.width = '450px'\n",
    "@widgets.interact(\n",
    "    sig_gwn=widgets.FloatSlider(3.0, min=0., max=6., step=0.5,\n",
    "                                layout=my_layout)\n",
    ")\n",
    "\n",
    "\n",
    "def diff_std_affect_fI(sig_gwn):\n",
    "    pars = default_pars(T=1000.)\n",
    "    I_mean = np.arange(100., 400., 10.)\n",
    "    spk_count = np.zeros(len(I_mean))\n",
    "    spk_count_dc = np.zeros(len(I_mean))\n",
    "\n",
    "    for idx in range(len(I_mean)):\n",
    "        I_GWN = my_GWN(pars, mu=I_mean[idx], sig=sig_gwn, myseed=2020)\n",
    "        v, rec_spikes = run_LIF(pars, Iinj=I_GWN)\n",
    "        v_dc, rec_sp_dc = run_LIF(pars, Iinj=I_mean[idx])\n",
    "        spk_count[idx] = len(rec_spikes)\n",
    "        spk_count_dc[idx] = len(rec_sp_dc)\n",
    "\n",
    "    # Plot the F-I curve i.e. Output firing rate as a function of input mean.\n",
    "    plt.figure()\n",
    "    plt.plot(I_mean, spk_count, 'k',\n",
    "             label=r'$\\sigma_{\\mathrm{GWN}}=%.2f$' % sig_gwn)\n",
    "    plt.plot(I_mean, spk_count_dc, 'k--', alpha=0.5, lw=4, dashes=(2, 2),\n",
    "             label='DC input')\n",
    "    plt.ylabel('Spike count')\n",
    "    plt.xlabel('Average injected current (pA)')\n",
    "    plt.legend(loc='best')\n",
    "    plt.show()"
   ]
  },
  {
   "cell_type": "code",
   "execution_count": 17,
   "id": "46ad65e8cd0deca4",
   "metadata": {
    "ExecuteTime": {
     "end_time": "2024-07-17T18:06:56.993376Z",
     "start_time": "2024-07-17T18:06:56.843915Z"
    },
    "collapsed": false
   },
   "outputs": [
    {
     "data": {
      "image/png": "[encoded data removed]",
      "text/plain": [
       "<Figure size 1100x400 with 2 Axes>"
      ]
     },
     "metadata": {},
     "output_type": "display_data"
    }
   ],
   "source": [
    "def isi_cv_LIF(spike_times):\n",
    "    \"\"\"\n",
    "    Calculates the interspike intervals (isi) and\n",
    "    the coefficient of variation (cv) for a given spike_train\n",
    "  \n",
    "    Args:\n",
    "      spike_times : (n, ) vector with the spike times (ndarray)\n",
    "  \n",
    "    Returns:\n",
    "      isi         : (n-1,) vector with the inter-spike intervals (ms)\n",
    "      cv          : coefficient of variation of isi (float)\n",
    "  \n",
    "    \"\"\"\n",
    "    if len(spike_times) >= 2:\n",
    "        # Compute isi\n",
    "        isi = np.diff(spike_times) \n",
    "        # Compute cv\n",
    "        cv = np.std(isi) / np.mean(isi)\n",
    "    else:\n",
    "        isi = np.nan\n",
    "        cv = np.nan\n",
    "\n",
    "    return isi, cv\n",
    "\n",
    "\n",
    "# Set parameters\n",
    "pars = default_pars(T=1000.)\n",
    "mu_gwn = 250\n",
    "sig_gwn1 = 0.5\n",
    "sig_gwn2 = 3.0\n",
    "\n",
    "# Run LIF model for sigma = 0.5\n",
    "I_GWN1 = my_GWN(pars, mu=mu_gwn, sig=sig_gwn1, myseed=2020)\n",
    "_, sp1 = run_LIF(pars, Iinj=I_GWN1)\n",
    "\n",
    "# Run LIF model for sigma = 3\n",
    "I_GWN2 = my_GWN(pars, mu=mu_gwn, sig=sig_gwn2, myseed=2020)\n",
    "_, sp2 = run_LIF(pars, Iinj=I_GWN2)\n",
    "\n",
    "# Compute ISIs/CV\n",
    "isi1, cv1 = isi_cv_LIF(sp1)\n",
    "isi2, cv2 = isi_cv_LIF(sp2)\n",
    "\n",
    "# Visualize\n",
    "my_hists(isi1, isi2, cv1, cv2, sig_gwn1, sig_gwn2)"
   ]
  },
  {
   "cell_type": "code",
   "execution_count": 18,
   "id": "49f6cd5cffa3fe5c",
   "metadata": {
    "ExecuteTime": {
     "end_time": "2024-07-17T18:07:40.601174Z",
     "start_time": "2024-07-17T18:07:40.471733Z"
    },
    "collapsed": false
   },
   "outputs": [
    {
     "data": {
      "application/vnd.jupyter.widget-view+json": {
       "model_id": "a8e7ccd0971b40d8a986ef604e75711b",
       "version_major": 2,
       "version_minor": 0
      },
      "text/plain": [
       "interactive(children=(FloatSlider(value=0.0, description='sig_gwn', layout=Layout(width='450px'), max=10.0, st…"
      ]
     },
     "metadata": {},
     "output_type": "display_data"
    }
   ],
   "source": [
    "my_layout.width = '450px'\n",
    "@widgets.interact(\n",
    "    sig_gwn=widgets.FloatSlider(0.0, min=0., max=10.,\n",
    "                                step=0.5, layout=my_layout)\n",
    ")\n",
    "\n",
    "\n",
    "def diff_std_affect_fI(sig_gwn):\n",
    "    pars = default_pars(T=1000.)\n",
    "    I_mean = np.arange(100., 400., 20)\n",
    "    spk_count = np.zeros(len(I_mean))\n",
    "    cv_isi = np.empty(len(I_mean))\n",
    "\n",
    "    for idx in range(len(I_mean)):\n",
    "        I_GWN = my_GWN(pars, mu=I_mean[idx], sig=sig_gwn)\n",
    "        v, rec_spikes = run_LIF(pars, Iinj=I_GWN)\n",
    "        spk_count[idx] = len(rec_spikes)\n",
    "        if len(rec_spikes) > 3:\n",
    "            isi = np.diff(rec_spikes)\n",
    "            cv_isi[idx] = np.std(isi) / np.mean(isi)\n",
    "\n",
    "    # Plot the F-I curve i.e. Output firing rate as a function of input mean.\n",
    "    plt.figure()\n",
    "    plt.plot(I_mean[spk_count > 5], cv_isi[spk_count > 5], 'bo', alpha=0.5)\n",
    "    plt.xlabel('Average injected current (pA)')\n",
    "    plt.ylabel(r'Spike irregularity ($\\mathrm{CV}_\\mathrm{ISI}$)')\n",
    "    plt.ylim(-0.1, 1.5)\n",
    "    plt.grid(True)\n",
    "    plt.show()"
   ]
  },
  {
   "cell_type": "markdown",
   "source": [
    "## Tutorial 2"
   ],
   "metadata": {
    "collapsed": false
   },
   "id": "2127dfdb21d62091"
  },
  {
   "cell_type": "code",
   "execution_count": 17,
   "id": "189b3a7ba26b945b",
   "metadata": {
    "collapsed": false,
    "ExecuteTime": {
     "end_time": "2024-07-17T20:03:19.697227Z",
     "start_time": "2024-07-17T20:03:19.678414Z"
    }
   },
   "outputs": [],
   "source": [
    "import time\n"
   ]
  },
  {
   "cell_type": "code",
   "execution_count": 21,
   "outputs": [],
   "source": [
    "def example_plot_myCC():\n",
    "    pars = default_pars(T=50000, dt=.1)\n",
    "\n",
    "    c = np.arange(10) * 0.1\n",
    "    r12 = np.zeros(10)\n",
    "    for i in range(10):\n",
    "        I1gL, I2gL = correlate_input(pars, mu=20.0, sig=7.5, c=c[i])\n",
    "        r12[i] = my_CC(I1gL, I2gL)\n",
    "\n",
    "    plt.figure()\n",
    "    plt.plot(c, r12, 'bo', alpha=0.7, label='Simulation', zorder=2)\n",
    "    plt.plot([-0.05, 0.95], [-0.05, 0.95], 'k--', label='y=x',\n",
    "             dashes=(2, 2), zorder=1)\n",
    "    plt.xlabel('True CC')\n",
    "    plt.ylabel('Sample CC')\n",
    "    plt.legend(loc='best')\n",
    "    plt.show()\n",
    "\n",
    "\n",
    "def my_raster_Poisson(range_t, spike_train, n):\n",
    "    \"\"\"\n",
    "    Ffunction generates and plots the raster of the Poisson spike train\n",
    "  \n",
    "    Args:\n",
    "      range_t     : time sequence\n",
    "      spike_train : binary spike trains, with shape (N, Lt)\n",
    "      n           : number of Poisson trains plot\n",
    "  \n",
    "    Returns:\n",
    "      Raster plot of the spike train\n",
    "    \"\"\"\n",
    "\n",
    "    # find the number of all the spike trains\n",
    "    N = spike_train.shape[0]\n",
    "\n",
    "    # n should smaller than N:\n",
    "    if n > N:\n",
    "        print('The number n exceeds the size of spike trains')\n",
    "        print('The number n is set to be the size of spike trains')\n",
    "        n = N\n",
    "\n",
    "    # plot rater\n",
    "    plt.figure()\n",
    "    i = 0\n",
    "    while i < n:\n",
    "        if spike_train[i, :].sum() > 0.:\n",
    "            t_sp = range_t[spike_train[i, :] > 0.5]  # spike times\n",
    "            plt.plot(t_sp, i * np.ones(len(t_sp)), 'k|', ms=10, markeredgewidth=2)\n",
    "        i += 1\n",
    "    plt.xlim([range_t[0], range_t[-1]])\n",
    "    plt.ylim([-0.5, n + 0.5])\n",
    "    plt.xlabel('Time (ms)', fontsize=12)\n",
    "    plt.ylabel('Neuron ID', fontsize=12)\n",
    "    plt.show()\n",
    "\n",
    "def plot_c_r_LIF(c, r, mycolor, mylabel):\n",
    "    z = np.polyfit(c, r, deg=1)\n",
    "    c_range = np.array([c.min() - 0.05, c.max() + 0.05])\n",
    "    plt.plot(c, r, 'o', color=mycolor, alpha=0.7, label=mylabel, zorder=2)\n",
    "    plt.plot(c_range, z[0] * c_range + z[1], color=mycolor, zorder=1)"
   ],
   "metadata": {
    "collapsed": false,
    "ExecuteTime": {
     "end_time": "2024-07-17T20:13:25.553464Z",
     "start_time": "2024-07-17T20:13:25.546709Z"
    }
   },
   "id": "74fa8ea09b0f2286"
  },
  {
   "cell_type": "code",
   "execution_count": 22,
   "outputs": [],
   "source": [
    "def default_pars(**kwargs):\n",
    "    pars = {}\n",
    "\n",
    "    ### typical neuron parameters###\n",
    "    pars['V_th'] = -55.     # spike threshold [mV]\n",
    "    pars['V_reset'] = -75.  # reset potential [mV]\n",
    "    pars['tau_m'] = 10.     # membrane time constant [ms]\n",
    "    pars['g_L'] = 10.       # leak conductance [nS]\n",
    "    pars['V_init'] = -75.   # initial potential [mV]\n",
    "    pars['V_L'] = -75.      # leak reversal potential [mV]\n",
    "    pars['tref'] = 2.       # refractory time (ms)\n",
    "\n",
    "    ### simulation parameters ###\n",
    "    pars['T'] = 400. # Total duration of simulation [ms]\n",
    "    pars['dt'] = .1  # Simulation time step [ms]\n",
    "\n",
    "    ### external parameters if any ###\n",
    "    for k in kwargs:\n",
    "        pars[k] = kwargs[k]\n",
    "\n",
    "    pars['range_t'] = np.arange(0, pars['T'], pars['dt'])  # Vector of discretized\n",
    "    # time points [ms]\n",
    "    return pars\n",
    "\n",
    "\n",
    "def run_LIF(pars, Iinj):\n",
    "    \"\"\"\n",
    "    Simulate the LIF dynamics with external input current\n",
    "  \n",
    "    Args:\n",
    "      pars       : parameter dictionary\n",
    "      Iinj       : input current [pA]. The injected current here can be a value or an array\n",
    "  \n",
    "    Returns:\n",
    "      rec_spikes : spike times\n",
    "      rec_v      : mebrane potential\n",
    "    \"\"\"\n",
    "\n",
    "    # Set parameters\n",
    "    V_th, V_reset = pars['V_th'], pars['V_reset']\n",
    "    tau_m, g_L = pars['tau_m'], pars['g_L']\n",
    "    V_init, V_L = pars['V_init'], pars['V_L']\n",
    "    dt, range_t = pars['dt'], pars['range_t']\n",
    "    Lt = range_t.size\n",
    "    tref = pars['tref']\n",
    "\n",
    "    # Initialize voltage and current\n",
    "    v = np.zeros(Lt)\n",
    "    v[0] = V_init\n",
    "    Iinj = Iinj * np.ones(Lt)\n",
    "    tr = 0.\n",
    "\n",
    "    # simulate the LIF dynamics\n",
    "    rec_spikes = []   # record spike times\n",
    "    for it in range(Lt - 1):\n",
    "        if tr > 0:\n",
    "            v[it] = V_reset\n",
    "            tr = tr - 1\n",
    "        elif v[it] >= V_th:  # reset voltage and record spike event\n",
    "            rec_spikes.append(it)\n",
    "            v[it] = V_reset\n",
    "            tr = tref / dt\n",
    "\n",
    "        # calculate the increment of the membrane potential\n",
    "        dv = (-(v[it] - V_L) + Iinj[it] / g_L) * (dt / tau_m)\n",
    "\n",
    "        # update the membrane potential\n",
    "        v[it + 1] = v[it] + dv\n",
    "\n",
    "    rec_spikes = np.array(rec_spikes) * dt\n",
    "\n",
    "    return v, rec_spikes\n",
    "\n",
    "\n",
    "def my_GWN(pars, sig, myseed=False):\n",
    "    \"\"\"\n",
    "    Function that calculates Gaussian white noise inputs\n",
    "  \n",
    "    Args:\n",
    "      pars       : parameter dictionary\n",
    "      mu         : noise baseline (mean)\n",
    "      sig        : noise amplitute (standard deviation)\n",
    "      myseed     : random seed. int or boolean\n",
    "                   the same seed will give the same random number sequence\n",
    "  \n",
    "    Returns:\n",
    "      I          : Gaussian white noise input\n",
    "    \"\"\"\n",
    "\n",
    "    # Retrieve simulation parameters\n",
    "    dt, range_t = pars['dt'], pars['range_t']\n",
    "    Lt = range_t.size\n",
    "\n",
    "    # Set random seed. You can fix the seed of the random number generator so\n",
    "    # that the results are reliable however, when you want to generate multiple\n",
    "    # realization make sure that you change the seed for each new realization\n",
    "    if myseed:\n",
    "        np.random.seed(seed=myseed)\n",
    "    else:\n",
    "        np.random.seed()\n",
    "\n",
    "    # generate GWN\n",
    "    # we divide here by 1000 to convert units to sec.\n",
    "    I_GWN = sig * np.random.randn(Lt) * np.sqrt(pars['tau_m'] / dt)\n",
    "\n",
    "    return I_GWN\n",
    "\n",
    "\n",
    "def LIF_output_cc(pars, mu, sig, c, bin_size, n_trials=20):\n",
    "    \"\"\" Simulates two LIF neurons with correlated input and computes output correlation\n",
    "  \n",
    "    Args:\n",
    "    pars       : parameter dictionary\n",
    "    mu         : noise baseline (mean)\n",
    "    sig        : noise amplitute (standard deviation)\n",
    "    c          : correlation coefficient ~[0, 1]\n",
    "    bin_size   : bin size used for time series\n",
    "    n_trials   : total simulation trials\n",
    "  \n",
    "    Returns:\n",
    "    r          : output corr. coe.\n",
    "    sp_rate    : spike rate\n",
    "    sp1        : spike times of neuron 1 in the last trial\n",
    "    sp2        : spike times of neuron 2 in the last trial\n",
    "    \"\"\"\n",
    "\n",
    "    r12 = np.zeros(n_trials)\n",
    "    sp_rate = np.zeros(n_trials)\n",
    "    for i_trial in range(n_trials):\n",
    "        I1gL, I2gL = correlate_input(pars, mu, sig, c)\n",
    "        _, sp1 = run_LIF(pars, pars['g_L'] * I1gL)\n",
    "        _, sp2 = run_LIF(pars, pars['g_L'] * I2gL)\n",
    "\n",
    "        my_bin = np.arange(0, pars['T'], bin_size)\n",
    "\n",
    "        sp1_count, _ = np.histogram(sp1, bins=my_bin)\n",
    "        sp2_count, _ = np.histogram(sp2, bins=my_bin)\n",
    "\n",
    "        r12[i_trial] = my_CC(sp1_count[::20], sp2_count[::20])\n",
    "        sp_rate[i_trial] = len(sp1) / pars['T'] * 1000.\n",
    "\n",
    "    return r12.mean(), sp_rate.mean(), sp1, sp2"
   ],
   "metadata": {
    "collapsed": false,
    "ExecuteTime": {
     "end_time": "2024-07-17T20:13:26.118556Z",
     "start_time": "2024-07-17T20:13:26.114782Z"
    }
   },
   "id": "2222f36689dbb174"
  },
  {
   "cell_type": "code",
   "execution_count": 23,
   "outputs": [
    {
     "name": "stdout",
     "output_type": "stream",
     "text": [
      "Help on function correlate_input in module __main__:\n",
      "\n",
      "correlate_input(pars, mu=20.0, sig=7.5, c=0.3)\n",
      "    Args:\n",
      "      pars       : parameter dictionary\n",
      "      mu         : noise baseline (mean)\n",
      "      sig        : noise amplitute (standard deviation)\n",
      "      c.         : correlation coefficient ~[0, 1]\n",
      "    \n",
      "    Returns:\n",
      "      I1gL, I2gL : two correlated inputs with corr. coe. c\n"
     ]
    }
   ],
   "source": [
    "def correlate_input(pars, mu=20., sig=7.5, c=0.3):\n",
    "    \"\"\"\n",
    "    Args:\n",
    "      pars       : parameter dictionary\n",
    "      mu         : noise baseline (mean)\n",
    "      sig        : noise amplitute (standard deviation)\n",
    "      c.         : correlation coefficient ~[0, 1]\n",
    "  \n",
    "    Returns:\n",
    "      I1gL, I2gL : two correlated inputs with corr. coe. c\n",
    "    \"\"\"\n",
    "\n",
    "    # generate Gaussian whute noise xi_1, xi_2, xi_c\n",
    "    xi_1 = my_GWN(pars, sig)\n",
    "    xi_2 = my_GWN(pars, sig)\n",
    "    xi_c = my_GWN(pars, sig)\n",
    "\n",
    "    # Generate two correlated inputs by Equation. (1)\n",
    "    I1gL = mu + np.sqrt(1. - c) * xi_1 + np.sqrt(c) * xi_c\n",
    "    I2gL = mu + np.sqrt(1. - c) * xi_2 + np.sqrt(c) * xi_c\n",
    "\n",
    "    return I1gL, I2gL\n",
    "\n",
    "help(correlate_input)"
   ],
   "metadata": {
    "collapsed": false,
    "ExecuteTime": {
     "end_time": "2024-07-17T20:13:27.357416Z",
     "start_time": "2024-07-17T20:13:27.346586Z"
    }
   },
   "id": "d9de67896e096861"
  },
  {
   "cell_type": "code",
   "execution_count": 24,
   "outputs": [
    {
     "data": {
      "text/plain": "<Figure size 640x480 with 1 Axes>",
      "image/png": "[encoded data removed]"
     },
     "metadata": {},
     "output_type": "display_data"
    }
   ],
   "source": [
    "def my_CC(i, j):\n",
    "    \"\"\"\n",
    "    Args:\n",
    "      i, j  : two time series with the same length\n",
    "  \n",
    "    Returns:\n",
    "      rij   : correlation coefficient\n",
    "    \"\"\"\n",
    "\n",
    "    # Calculate the covariance of i and j\n",
    "    cov = np.cov(i, j)[0][1]\n",
    "\n",
    "    # Calculate the variance of i\n",
    "    var_i = np.var(i) \n",
    "\n",
    "    # Calculate the variance of j\n",
    "    var_j = np.var(j) \n",
    "\n",
    "    # Calculate the correlation coefficient\n",
    "    rij = cov / (np.sqrt(var_i) * np.sqrt(var_j))\n",
    "\n",
    "    return rij\n",
    "\n",
    "\n",
    "example_plot_myCC()"
   ],
   "metadata": {
    "collapsed": false,
    "ExecuteTime": {
     "end_time": "2024-07-17T20:18:03.721004Z",
     "start_time": "2024-07-17T20:18:03.381342Z"
    }
   },
   "id": "45fbfd6a323fee4a"
  },
  {
   "cell_type": "markdown",
   "source": [],
   "metadata": {
    "collapsed": false
   },
   "id": "e1b176a3a46571dd"
  },
  {
   "cell_type": "code",
   "execution_count": 25,
   "outputs": [
    {
     "name": "stdout",
     "output_type": "stream",
     "text": [
      "Help on function Poisson_generator in module __main__:\n",
      "\n",
      "Poisson_generator(pars, rate, n, myseed=False)\n",
      "    Generates poisson trains\n",
      "    \n",
      "    Args:\n",
      "      pars       : parameter dictionary\n",
      "      rate       : noise amplitute [Hz]\n",
      "      n          : number of Poisson trains\n",
      "      myseed     : random seed. int or boolean\n",
      "    \n",
      "    Returns:\n",
      "      pre_spike_train : spike train matrix, ith row represents whether\n",
      "                        there is a spike in ith spike train over time\n",
      "                        (1 if spike, 0 otherwise)\n"
     ]
    }
   ],
   "source": [
    "# @markdown Execute this cell to get helper function `Poisson_generator`\n",
    "def Poisson_generator(pars, rate, n, myseed=False):\n",
    "    \"\"\"\n",
    "    Generates poisson trains\n",
    "  \n",
    "    Args:\n",
    "      pars       : parameter dictionary\n",
    "      rate       : noise amplitute [Hz]\n",
    "      n          : number of Poisson trains\n",
    "      myseed     : random seed. int or boolean\n",
    "  \n",
    "    Returns:\n",
    "      pre_spike_train : spike train matrix, ith row represents whether\n",
    "                        there is a spike in ith spike train over time\n",
    "                        (1 if spike, 0 otherwise)\n",
    "    \"\"\"\n",
    "\n",
    "    # Retrieve simulation parameters\n",
    "    dt, range_t = pars['dt'], pars['range_t']\n",
    "    Lt = range_t.size\n",
    "\n",
    "    # set random seed\n",
    "    if myseed:\n",
    "        np.random.seed(seed=myseed)\n",
    "    else:\n",
    "        np.random.seed()\n",
    "\n",
    "    # generate uniformly distributed random variables\n",
    "    u_rand = np.random.rand(n, Lt)\n",
    "\n",
    "    # generate Poisson train\n",
    "    poisson_train = 1. * (u_rand < rate * (dt / 1000.))\n",
    "\n",
    "    return poisson_train\n",
    "\n",
    "help(Poisson_generator)"
   ],
   "metadata": {
    "collapsed": false,
    "ExecuteTime": {
     "end_time": "2024-07-17T20:19:48.200246Z",
     "start_time": "2024-07-17T20:19:48.167475Z"
    }
   },
   "id": "d225f910e9e85cf6"
  },
  {
   "cell_type": "code",
   "execution_count": 26,
   "outputs": [
    {
     "data": {
      "text/plain": "<Figure size 640x480 with 1 Axes>",
      "image/png": "[encoded data removed]"
     },
     "metadata": {},
     "output_type": "display_data"
    }
   ],
   "source": [
    "pars = default_pars()\n",
    "pre_spike_train = Poisson_generator(pars, rate=10, n=100, myseed=2020)\n",
    "my_raster_Poisson(pars['range_t'], pre_spike_train, 100)"
   ],
   "metadata": {
    "collapsed": false,
    "ExecuteTime": {
     "end_time": "2024-07-17T20:20:12.501985Z",
     "start_time": "2024-07-17T20:20:12.412609Z"
    }
   },
   "id": "4a8ef09a7b3b7715"
  },
  {
   "cell_type": "code",
   "execution_count": 27,
   "outputs": [],
   "source": [
    "\n",
    "def generate_corr_Poisson(pars, poi_rate, c, myseed=False):\n",
    "    \"\"\"\n",
    "    function to generate correlated Poisson type spike trains\n",
    "    Args:\n",
    "      pars       : parameter dictionary\n",
    "      poi_rate   : rate of the Poisson train\n",
    "      c.         : correlation coefficient ~[0, 1]\n",
    "  \n",
    "    Returns:\n",
    "      sp1, sp2   : two correlated spike time trains with corr. coe. c\n",
    "    \"\"\"\n",
    "\n",
    "    range_t = pars['range_t']\n",
    "\n",
    "    mother_rate = poi_rate / c\n",
    "    mother_spike_train = Poisson_generator(pars, rate=mother_rate,\n",
    "                                           n=1, myseed=myseed)[0]\n",
    "    sp_mother = range_t[mother_spike_train > 0]\n",
    "\n",
    "    L_sp_mother = len(sp_mother)\n",
    "    sp_mother_id = np.arange(L_sp_mother)\n",
    "    L_sp_corr = int(L_sp_mother * c)\n",
    "\n",
    "    np.random.shuffle(sp_mother_id)\n",
    "    sp1 = np.sort(sp_mother[sp_mother_id[:L_sp_corr]])\n",
    "\n",
    "    np.random.shuffle(sp_mother_id)\n",
    "    sp2 = np.sort(sp_mother[sp_mother_id[:L_sp_corr]])\n",
    "\n",
    "    return sp1, sp2\n"
   ],
   "metadata": {
    "collapsed": false,
    "ExecuteTime": {
     "end_time": "2024-07-17T20:22:59.376055Z",
     "start_time": "2024-07-17T20:22:59.350102Z"
    }
   },
   "id": "3fda8abc0aa551f5"
  },
  {
   "cell_type": "code",
   "execution_count": 28,
   "outputs": [
    {
     "name": "stdout",
     "output_type": "stream",
     "text": [
      "True corr coe = 0.200\n",
      "Simu corr coe = 0.197\n"
     ]
    }
   ],
   "source": [
    "def corr_coeff_pairs(pars, rate, c, trials, bins):\n",
    "    \"\"\"\n",
    "    Calculate the correlation coefficient of two spike trains, for different\n",
    "    realizations\n",
    "  \n",
    "    Args:\n",
    "        pars   : parameter dictionary\n",
    "        rate   : rate of poisson inputs\n",
    "        c      : correlation coefficient ~ [0, 1]\n",
    "        trials : number of realizations\n",
    "        bins   : vector with bins for time discretization\n",
    "  \n",
    "    Returns:\n",
    "      r12      : correlation coefficient of a pair of inputs\n",
    "    \"\"\"\n",
    "\n",
    "    r12 = np.zeros(trials)\n",
    "\n",
    "    for i in range(trials):\n",
    "\n",
    "        # Generate correlated Poisson inputs\n",
    "        sp1, sp2 = generate_corr_Poisson(pars, rate, c, myseed=2020+i)\n",
    "\n",
    "        # Bin the spike times of the first input\n",
    "        sp1_count, _ = np.histogram(sp1, bins=bins)\n",
    "\n",
    "        # Bin the spike times of the second input\n",
    "        sp2_count, _ = np.histogram(sp2, bins=bins)\n",
    "\n",
    "        # Calculate the correlation coefficient\n",
    "        r12[i] = my_CC(sp1_count, sp2_count)\n",
    "\n",
    "    return r12\n",
    "\n",
    "\n",
    "poi_rate = 20.\n",
    "c = 0.2  # set true correlation\n",
    "pars = default_pars(T=10000)\n",
    "\n",
    "# bin the spike time\n",
    "bin_size = 20  # [ms]\n",
    "my_bin = np.arange(0, pars['T'], bin_size)\n",
    "n_trials = 100  # 100 realizations\n",
    "\n",
    "r12 = corr_coeff_pairs(pars, rate=poi_rate, c=c, trials=n_trials, bins=my_bin)\n",
    "print(f'True corr coe = {c:.3f}')\n",
    "print(f'Simu corr coe = {r12.mean():.3f}')"
   ],
   "metadata": {
    "collapsed": false,
    "ExecuteTime": {
     "end_time": "2024-07-17T20:31:08.638181Z",
     "start_time": "2024-07-17T20:31:08.566555Z"
    }
   },
   "id": "4aa52ac72fe4c98"
  },
  {
   "cell_type": "code",
   "execution_count": 32,
   "outputs": [
    {
     "name": "stdout",
     "output_type": "stream",
     "text": [
      "Simulation time = 0.02 min\n",
      "Input correlation = 0.3\n",
      "Output correlation = 0.1856907270930983\n"
     ]
    },
    {
     "data": {
      "text/plain": "<Figure size 1200x600 with 1 Axes>",
      "image/png": "[encoded data removed]"
     },
     "metadata": {},
     "output_type": "display_data"
    }
   ],
   "source": [
    "pars = default_pars(T=80000, dt=1.)  # get the parameters\n",
    "c_in = 0.3  # set input correlation value\n",
    "gwn_mean = 10.\n",
    "gwn_std = 30.\n",
    "bin_size = 10.  # ms\n",
    "\n",
    "\n",
    "starttime = time.perf_counter()  # time clock\n",
    "r12_ss, sp_ss, sp1, sp2 = LIF_output_cc(pars, mu=gwn_mean, sig=gwn_std, c=c_in,\n",
    "                                        bin_size=bin_size, n_trials=10)\n",
    "\n",
    "# just the time counter\n",
    "endtime = time.perf_counter()\n",
    "timecost = (endtime - starttime) / 60.\n",
    "print(f\"Simulation time = {timecost:.2f} min\")\n",
    "\n",
    "print(f\"Input correlation = {c_in}\")\n",
    "print(f\"Output correlation = {r12_ss}\")\n",
    "\n",
    "plt.figure(figsize=(12, 6))\n",
    "plt.plot(sp1, np.ones(len(sp1)) * 1, '|', ms=20, label='neuron 1')\n",
    "plt.plot(sp2, np.ones(len(sp2)) * 1.1, '|', ms=20, label='neuron 2')\n",
    "plt.xlabel('time (ms)')\n",
    "plt.ylabel('neuron id.')\n",
    "plt.xlim(1000, 8000)\n",
    "plt.ylim(0.9, 1.2)\n",
    "plt.legend()\n",
    "plt.show()"
   ],
   "metadata": {
    "collapsed": false,
    "ExecuteTime": {
     "end_time": "2024-07-17T20:33:59.438667Z",
     "start_time": "2024-07-17T20:33:58.441181Z"
    }
   },
   "id": "db3695087dd46043"
  },
  {
   "cell_type": "code",
   "execution_count": 33,
   "outputs": [
    {
     "name": "stdout",
     "output_type": "stream",
     "text": [
      "Simulation time = 0.11 min\n"
     ]
    },
    {
     "data": {
      "text/plain": "<Figure size 640x480 with 1 Axes>",
      "image/png": "[encoded data removed]"
     },
     "metadata": {},
     "output_type": "display_data"
    }
   ],
   "source": [
    "pars = default_pars(T=80000, dt=1.)  # get the parameters\n",
    "bin_size = 10.\n",
    "c_in = np.arange(0, 1.0, 0.1)  # set the range for input CC\n",
    "r12_ss = np.zeros(len(c_in))  # small mu, small sigma\n",
    "\n",
    "starttime = time.perf_counter() # time clock\n",
    "for ic in range(len(c_in)):\n",
    "    r12_ss[ic], sp_ss, sp1, sp2 = LIF_output_cc(pars, mu=10.0, sig=10.,\n",
    "                                                c=c_in[ic], bin_size=bin_size,\n",
    "                                                n_trials=10)\n",
    "\n",
    "endtime = time.perf_counter()\n",
    "timecost = (endtime - starttime) / 60.\n",
    "print(f\"Simulation time = {timecost:.2f} min\")\n",
    "\n",
    "plot_c_r_LIF(c_in, r12_ss, mycolor='b', mylabel='Output CC')\n",
    "plt.plot([c_in.min() - 0.05, c_in.max() + 0.05],\n",
    "         [c_in.min() - 0.05, c_in.max() + 0.05],\n",
    "         'k--', dashes=(2, 2), label='y=x')\n",
    "\n",
    "plt.xlabel('Input CC')\n",
    "plt.ylabel('Output CC')\n",
    "plt.legend(loc='best', fontsize=16)\n",
    "plt.show()"
   ],
   "metadata": {
    "collapsed": false,
    "ExecuteTime": {
     "end_time": "2024-07-17T20:35:10.683574Z",
     "start_time": "2024-07-17T20:35:03.770733Z"
    }
   },
   "id": "d7a63ad0f4acb092"
  },
  {
   "cell_type": "code",
   "execution_count": 34,
   "outputs": [
    {
     "name": "stdout",
     "output_type": "stream",
     "text": [
      "Simulation time = 0.16 min\n"
     ]
    },
    {
     "data": {
      "text/plain": "<Figure size 640x480 with 1 Axes>",
      "image/png": "[encoded data removed]"
     },
     "metadata": {},
     "output_type": "display_data"
    }
   ],
   "source": [
    "pars = default_pars(T=80000, dt=1.) # get the parameters\n",
    "n_trials = 10\n",
    "bin_size = 10.\n",
    "c_in = np.arange(0., 1., 0.2)  # set the range for input CC\n",
    "r12_ss = np.zeros(len(c_in))   # small mu, small sigma\n",
    "r12_ls = np.zeros(len(c_in))   # large mu, small sigma\n",
    "r12_sl = np.zeros(len(c_in))   # small mu, large sigma\n",
    "\n",
    "starttime = time.perf_counter()  # time clock\n",
    "for ic in range(len(c_in)):\n",
    "    r12_ss[ic], sp_ss, sp1, sp2 = LIF_output_cc(pars, mu=10.0, sig=10.,\n",
    "                                                c=c_in[ic], bin_size=bin_size,\n",
    "                                                n_trials=n_trials)\n",
    "    r12_ls[ic], sp_ls, sp1, sp2 = LIF_output_cc(pars, mu=18.0, sig=10.,\n",
    "                                                c=c_in[ic], bin_size=bin_size,\n",
    "                                                n_trials=n_trials)\n",
    "    r12_sl[ic], sp_sl, sp1, sp2 = LIF_output_cc(pars, mu=10.0, sig=20.,\n",
    "                                                c=c_in[ic], bin_size=bin_size,\n",
    "                                                n_trials=n_trials)\n",
    "endtime = time.perf_counter()\n",
    "timecost = (endtime - starttime) / 60.\n",
    "print(f\"Simulation time = {timecost:.2f} min\")\n",
    "\n",
    "\n",
    "plot_c_r_LIF(c_in, r12_ss, mycolor='b', mylabel=r'Small $\\mu$, small $\\sigma$')\n",
    "plot_c_r_LIF(c_in, r12_ls, mycolor='y', mylabel=r'Large $\\mu$, small $\\sigma$')\n",
    "plot_c_r_LIF(c_in, r12_sl, mycolor='r', mylabel=r'Small $\\mu$, large $\\sigma$')\n",
    "plt.plot([c_in.min() - 0.05, c_in.max() + 0.05],\n",
    "         [c_in.min() - 0.05, c_in.max() + 0.05],\n",
    "         'k--', dashes=(2, 2), label='y=x')\n",
    "plt.xlabel('Input CC')\n",
    "plt.ylabel('Output CC')\n",
    "plt.legend(loc='best', fontsize=14)\n",
    "plt.show()"
   ],
   "metadata": {
    "collapsed": false,
    "ExecuteTime": {
     "end_time": "2024-07-17T20:36:19.905225Z",
     "start_time": "2024-07-17T20:36:10.101926Z"
    }
   },
   "id": "6927bf0bf2450abc"
  },
  {
   "cell_type": "code",
   "execution_count": null,
   "outputs": [],
   "source": [],
   "metadata": {
    "collapsed": false
   },
   "id": "bcfb7fa4e153c50a"
  }
 ],
 "metadata": {
  "kernelspec": {
   "display_name": "Python 3 (ipykernel)",
   "language": "python",
   "name": "python3"
  },
  "language_info": {
   "codemirror_mode": {
    "name": "ipython",
    "version": 3
   },
   "file_extension": ".py",
   "mimetype": "text/x-python",
   "name": "python",
   "nbconvert_exporter": "python",
   "pygments_lexer": "ipython3",
   "version": "3.11.3"
  }
 },
 "nbformat": 4,
 "nbformat_minor": 5
}
