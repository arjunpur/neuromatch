{
 "cells": [
  {
   "cell_type": "code",
   "execution_count": 1,
   "id": "initial_id",
   "metadata": {
    "collapsed": true,
    "ExecuteTime": {
     "end_time": "2025-06-16T22:04:52.574943Z",
     "start_time": "2025-06-16T22:04:34.270936Z"
    }
   },
   "outputs": [],
   "source": [
    "# Imports\n",
    "import time\n",
    "import random\n",
    "import numpy as np\n",
    "import pandas as pd\n",
    "import matplotlib.pyplot as plt\n",
    "\n",
    "# PyTorch libraries\n",
    "import torch\n",
    "from torch import nn\n",
    "from torch.utils.data import DataLoader"
   ]
  },
  {
   "cell_type": "code",
   "execution_count": 2,
   "outputs": [
    {
     "name": "stdout",
     "output_type": "stream",
     "text": [
      "MPS compiled: True. MPS available: True\n"
     ]
    }
   ],
   "source": [
    "mps_compiled = torch.backends.mps.is_built()\n",
    "mps_available = torch.backends.mps.is_available()\n",
    "print(f\"MPS compiled: {mps_compiled}. MPS available: {mps_available}\")\n"
   ],
   "metadata": {
    "collapsed": false,
    "ExecuteTime": {
     "end_time": "2025-06-16T22:04:54.736861Z",
     "start_time": "2025-06-16T22:04:54.709379Z"
    }
   },
   "id": "9366863aedb1ab40"
  },
  {
   "cell_type": "markdown",
   "source": [
    "# Pytorch Basics"
   ],
   "metadata": {
    "collapsed": false
   },
   "id": "ce56387fd3fa977a"
  },
  {
   "cell_type": "code",
   "execution_count": 5,
   "outputs": [
    {
     "name": "stdout",
     "output_type": "stream",
     "text": [
      "tensor([1, 2, 3])\n",
      "tensor([[1, 2, 3],\n",
      "        [3, 4, 5]])\n",
      "tensor([[1., 1., 1., 1.],\n",
      "        [1., 1., 1., 1.],\n",
      "        [1., 1., 1., 1.]])\n",
      "tensor([[[0., 0., 0.],\n",
      "         [0., 0., 0.]],\n",
      "\n",
      "        [[0., 0., 0.],\n",
      "         [0., 0., 0.]]])\n",
      "tensor([[0.6469, 0.3336]])\n",
      "tensor([[-0.2468, -0.1294]])\n",
      "tensor([1, 2, 3, 4, 5, 6, 7, 8, 9])\n",
      "tensor([0.0000, 0.1111, 0.2222, 0.3333, 0.4444, 0.5556, 0.6667, 0.7778, 0.8889,\n",
      "        1.0000])\n"
     ]
    }
   ],
   "source": [
    "# Some basic initializers\n",
    "a = torch.tensor([1, 2, 3])\n",
    "b = torch.tensor(((1, 2, 3), (3, 4, 5)))\n",
    "c = torch.ones(3, 4)\n",
    "d = torch.empty(2, 2, 3)\n",
    "print(a)\n",
    "print(b)\n",
    "print(c)\n",
    "print(d)\n",
    "\n",
    "# With distributions\n",
    "e = torch.rand(1, 2)\n",
    "f = torch.randn(1, 2)\n",
    "print(e)\n",
    "print(f)\n",
    "\n",
    "# Ranges\n",
    "g = torch.arange(1, 10, step = 1)\n",
    "h = torch.linspace(0, 1, steps = 10)\n",
    "print(g)\n",
    "print(h)"
   ],
   "metadata": {
    "collapsed": false,
    "ExecuteTime": {
     "end_time": "2025-06-16T21:50:19.225040Z",
     "start_time": "2025-06-16T21:50:19.146226Z"
    }
   },
   "id": "59afc288d2dfd2f6"
  },
  {
   "cell_type": "code",
   "execution_count": 6,
   "outputs": [
    {
     "name": "stdout",
     "output_type": "stream",
     "text": [
      "tensor([[1., 1., 1., 1., 1., 1., 1., 1., 1., 1., 1., 1., 1., 1., 1., 1., 1., 1.,\n",
      "         1., 1., 1.],\n",
      "        [1., 1., 1., 1., 1., 1., 1., 1., 1., 1., 1., 1., 1., 1., 1., 1., 1., 1.,\n",
      "         1., 1., 1.],\n",
      "        [1., 1., 1., 1., 1., 1., 1., 1., 1., 1., 1., 1., 1., 1., 1., 1., 1., 1.,\n",
      "         1., 1., 1.],\n",
      "        [1., 1., 1., 1., 1., 1., 1., 1., 1., 1., 1., 1., 1., 1., 1., 1., 1., 1.,\n",
      "         1., 1., 1.],\n",
      "        [1., 1., 1., 1., 1., 1., 1., 1., 1., 1., 1., 1., 1., 1., 1., 1., 1., 1.,\n",
      "         1., 1., 1.],\n",
      "        [1., 1., 1., 1., 1., 1., 1., 1., 1., 1., 1., 1., 1., 1., 1., 1., 1., 1.,\n",
      "         1., 1., 1.],\n",
      "        [1., 1., 1., 1., 1., 1., 1., 1., 1., 1., 1., 1., 1., 1., 1., 1., 1., 1.,\n",
      "         1., 1., 1.],\n",
      "        [1., 1., 1., 1., 1., 1., 1., 1., 1., 1., 1., 1., 1., 1., 1., 1., 1., 1.,\n",
      "         1., 1., 1.],\n",
      "        [1., 1., 1., 1., 1., 1., 1., 1., 1., 1., 1., 1., 1., 1., 1., 1., 1., 1.,\n",
      "         1., 1., 1.],\n",
      "        [1., 1., 1., 1., 1., 1., 1., 1., 1., 1., 1., 1., 1., 1., 1., 1., 1., 1.,\n",
      "         1., 1., 1.],\n",
      "        [1., 1., 1., 1., 1., 1., 1., 1., 1., 1., 1., 1., 1., 1., 1., 1., 1., 1.,\n",
      "         1., 1., 1.],\n",
      "        [1., 1., 1., 1., 1., 1., 1., 1., 1., 1., 1., 1., 1., 1., 1., 1., 1., 1.,\n",
      "         1., 1., 1.],\n",
      "        [1., 1., 1., 1., 1., 1., 1., 1., 1., 1., 1., 1., 1., 1., 1., 1., 1., 1.,\n",
      "         1., 1., 1.],\n",
      "        [1., 1., 1., 1., 1., 1., 1., 1., 1., 1., 1., 1., 1., 1., 1., 1., 1., 1.,\n",
      "         1., 1., 1.],\n",
      "        [1., 1., 1., 1., 1., 1., 1., 1., 1., 1., 1., 1., 1., 1., 1., 1., 1., 1.,\n",
      "         1., 1., 1.],\n",
      "        [1., 1., 1., 1., 1., 1., 1., 1., 1., 1., 1., 1., 1., 1., 1., 1., 1., 1.,\n",
      "         1., 1., 1.],\n",
      "        [1., 1., 1., 1., 1., 1., 1., 1., 1., 1., 1., 1., 1., 1., 1., 1., 1., 1.,\n",
      "         1., 1., 1.],\n",
      "        [1., 1., 1., 1., 1., 1., 1., 1., 1., 1., 1., 1., 1., 1., 1., 1., 1., 1.,\n",
      "         1., 1., 1.],\n",
      "        [1., 1., 1., 1., 1., 1., 1., 1., 1., 1., 1., 1., 1., 1., 1., 1., 1., 1.,\n",
      "         1., 1., 1.],\n",
      "        [1., 1., 1., 1., 1., 1., 1., 1., 1., 1., 1., 1., 1., 1., 1., 1., 1., 1.,\n",
      "         1., 1., 1.]])\n",
      "tensor([[ 1,  1,  1,  1],\n",
      "        [ 8,  4,  2,  1],\n",
      "        [27,  9,  3,  1]])\n",
      "tensor([[0.4977, 0.7529, 0.4459, 0.7546, 0.0491, 0.8995, 0.7866, 0.7025, 0.2290,\n",
      "         0.8944, 0.9084, 0.3811, 0.7622, 0.8297, 0.2911, 0.0615, 0.3967, 0.8598,\n",
      "         0.6621, 0.4599, 0.1449],\n",
      "        [0.5160, 0.6316, 0.8893, 0.8888, 0.0595, 0.2589, 0.9605, 0.0266, 0.7187,\n",
      "         0.1371, 0.2571, 0.4214, 0.5143, 0.2945, 0.2031, 0.3654, 0.5242, 0.3144,\n",
      "         0.3174, 0.1982, 0.5736],\n",
      "        [0.5694, 0.9810, 0.9686, 0.9405, 0.2279, 0.6394, 0.9682, 0.9332, 0.0680,\n",
      "         0.0948, 0.0031, 0.2518, 0.1958, 0.9590, 0.8230, 0.8023, 0.3035, 0.7672,\n",
      "         0.8033, 0.6119, 0.2662],\n",
      "        [0.6733, 0.6369, 0.2990, 0.2824, 0.5683, 0.2453, 0.3883, 0.4226, 0.1493,\n",
      "         0.4198, 0.6745, 0.0426, 0.4406, 0.4652, 0.0231, 0.2700, 0.1358, 0.4363,\n",
      "         0.7638, 0.7196, 0.0833],\n",
      "        [0.5430, 0.4316, 0.2013, 0.8022, 0.6283, 0.8528, 0.1581, 0.5628, 0.8380,\n",
      "         0.7171, 0.7192, 0.1566, 0.2718, 0.4073, 0.1638, 0.8101, 0.5977, 0.8540,\n",
      "         0.7959, 0.8824, 0.4097],\n",
      "        [0.2359, 0.1358, 0.8410, 0.0145, 0.5140, 0.1352, 0.5930, 0.3496, 0.7491,\n",
      "         0.9962, 0.0878, 0.6277, 0.0305, 0.0573, 0.7664, 0.7248, 0.3884, 0.8399,\n",
      "         0.3338, 0.2205, 0.5311],\n",
      "        [0.1972, 0.9288, 0.8160, 0.9231, 0.9576, 0.6043, 0.4150, 0.7681, 0.4105,\n",
      "         0.6828, 0.9947, 0.4463, 0.0172, 0.8347, 0.8197, 0.0346, 0.0107, 0.2565,\n",
      "         0.1752, 0.2851, 0.6916],\n",
      "        [0.1379, 0.5614, 0.9361, 0.2883, 0.9800, 0.9470, 0.7894, 0.7642, 0.5263,\n",
      "         0.6398, 0.1850, 0.6149, 0.7414, 0.7313, 0.6277, 0.1078, 0.6641, 0.2510,\n",
      "         0.8773, 0.6467, 0.4115],\n",
      "        [0.7860, 0.3857, 0.5686, 0.3507, 0.8434, 0.9688, 0.2711, 0.9421, 0.3960,\n",
      "         0.5240, 0.2810, 0.4922, 0.8184, 0.5862, 0.2924, 0.9168, 0.6307, 0.3613,\n",
      "         0.2646, 0.4328, 0.4221],\n",
      "        [0.3072, 0.0279, 0.6806, 0.9815, 0.8968, 0.5056, 0.2562, 0.2455, 0.2245,\n",
      "         0.5644, 0.9674, 0.4508, 0.4236, 0.8611, 0.7422, 0.2238, 0.3340, 0.3224,\n",
      "         0.2439, 0.9829, 0.6971],\n",
      "        [0.9723, 0.0625, 0.8642, 0.0692, 0.6527, 0.1056, 0.8356, 0.4947, 0.1773,\n",
      "         0.2820, 0.4673, 0.7465, 0.1270, 0.3083, 0.6004, 0.9063, 0.9553, 0.8227,\n",
      "         0.4192, 0.1503, 0.6537],\n",
      "        [0.3669, 0.4113, 0.6656, 0.9970, 0.8797, 0.4148, 0.2247, 0.7233, 0.9624,\n",
      "         0.9697, 0.5967, 0.0696, 0.5909, 0.9211, 0.1519, 0.0712, 0.8985, 0.1209,\n",
      "         0.3224, 0.9994, 0.4226],\n",
      "        [0.6140, 0.7555, 0.4728, 0.7073, 0.8642, 0.4546, 0.5430, 0.1415, 0.8945,\n",
      "         0.1783, 0.8956, 0.4971, 0.9382, 0.5414, 0.8694, 0.8090, 0.6036, 0.0416,\n",
      "         0.3423, 0.8169, 0.7423],\n",
      "        [0.0397, 0.6238, 0.3633, 0.2515, 0.9486, 0.0445, 0.9314, 0.7438, 0.2425,\n",
      "         0.9524, 0.4863, 0.1222, 0.7179, 0.1999, 0.6546, 0.0266, 0.7735, 0.9620,\n",
      "         0.7259, 0.4719, 0.2909],\n",
      "        [0.2045, 0.0800, 0.4482, 0.4536, 0.3397, 0.7430, 0.9139, 0.7405, 0.4406,\n",
      "         0.9984, 0.3746, 0.5545, 0.5660, 0.4778, 0.1937, 0.7825, 0.8816, 0.9449,\n",
      "         0.9442, 0.3786, 0.8122],\n",
      "        [0.6030, 0.3676, 0.9895, 0.0984, 0.8668, 0.0474, 0.9035, 0.1017, 0.2115,\n",
      "         0.6249, 0.8470, 0.5788, 0.6467, 0.1269, 0.9832, 0.8206, 0.9830, 0.3635,\n",
      "         0.7782, 0.2920, 0.5572],\n",
      "        [0.6875, 0.1039, 0.1564, 0.6791, 0.1172, 0.9439, 0.4575, 0.9858, 0.6574,\n",
      "         0.5064, 0.3347, 0.3769, 0.7267, 0.2967, 0.0175, 0.6426, 0.6825, 0.2270,\n",
      "         0.5810, 0.2263, 0.3658],\n",
      "        [0.1034, 0.0651, 0.8750, 0.0455, 0.5763, 0.0631, 0.1993, 0.6350, 0.5022,\n",
      "         0.8728, 0.7488, 0.4156, 0.9701, 0.4308, 0.5515, 0.6815, 0.0434, 0.6681,\n",
      "         0.3691, 0.4562, 0.4138],\n",
      "        [0.0433, 0.2456, 0.0267, 0.4497, 0.1813, 0.7286, 0.9468, 0.8115, 0.8782,\n",
      "         0.5620, 0.9161, 0.1667, 0.1788, 0.1265, 0.8388, 0.0678, 0.3879, 0.0939,\n",
      "         0.8524, 0.1941, 0.6580],\n",
      "        [0.7485, 0.2293, 0.6716, 0.6362, 0.2627, 0.7856, 0.3412, 0.2083, 0.8347,\n",
      "         0.7323, 0.8019, 0.1045, 0.6423, 0.6643, 0.4866, 0.8703, 0.0174, 0.9199,\n",
      "         0.5703, 0.9482, 0.2657]])\n",
      "tensor([ 4,  6,  8, 10, 12, 14, 16, 18, 20, 22, 24, 26, 28, 30, 32, 34, 36, 38,\n",
      "        40])\n"
     ]
    }
   ],
   "source": [
    "A = torch.ones(20, 21)\n",
    "Z = np.vander([1, 2, 3], 4)\n",
    "B = torch.tensor(Z)\n",
    "C = torch.rand_like(A)\n",
    "D = torch.arange(4, 41, step = 2)\n",
    "print(A)\n",
    "print(B)\n",
    "print(C)\n",
    "print(D)"
   ],
   "metadata": {
    "collapsed": false,
    "ExecuteTime": {
     "end_time": "2025-06-16T21:50:19.226192Z",
     "start_time": "2025-06-16T21:50:19.176005Z"
    }
   },
   "id": "f5eb22ae899e5c74"
  },
  {
   "cell_type": "markdown",
   "source": [
    "# Basic matrix multiplication and addition "
   ],
   "metadata": {
    "collapsed": false
   },
   "id": "d818e3ef9e552efb"
  },
  {
   "cell_type": "code",
   "execution_count": 7,
   "outputs": [
    {
     "name": "stdout",
     "output_type": "stream",
     "text": [
      "tensor([[20, 24],\n",
      "        [31, 27]])\n"
     ]
    }
   ],
   "source": [
    "a1 = torch.tensor(((2, 4), (5, 7)))\n",
    "a2 = torch.tensor(((1, 1), (2, 3)))\n",
    "a3 = torch.tensor(((10, 10), (12, 1)))\n",
    "print((a1 @ a2) + a3)"
   ],
   "metadata": {
    "collapsed": false,
    "ExecuteTime": {
     "end_time": "2025-06-16T21:50:19.227066Z",
     "start_time": "2025-06-16T21:50:19.186987Z"
    }
   },
   "id": "9fdc1399a5c835ac"
  },
  {
   "cell_type": "code",
   "execution_count": 8,
   "outputs": [
    {
     "data": {
      "text/plain": "tensor(82)"
     },
     "execution_count": 8,
     "metadata": {},
     "output_type": "execute_result"
    }
   ],
   "source": [
    "b1 = torch.tensor((3, 5, 7))\n",
    "b2 = torch.tensor((2, 4, 8))\n",
    "torch.dot(b1, b2)"
   ],
   "metadata": {
    "collapsed": false,
    "ExecuteTime": {
     "end_time": "2025-06-16T21:50:19.227464Z",
     "start_time": "2025-06-16T21:50:19.193916Z"
    }
   },
   "id": "701b05ef0001f927"
  },
  {
   "cell_type": "markdown",
   "source": [
    "## Indexing and Reshaping"
   ],
   "metadata": {
    "collapsed": false
   },
   "id": "bf3171aad4f9e1dc"
  },
  {
   "cell_type": "code",
   "execution_count": 9,
   "outputs": [
    {
     "name": "stdout",
     "output_type": "stream",
     "text": [
      "tensor(9)\n",
      "tensor([0, 1, 2, 3, 4])\n",
      "tensor([1, 3, 5, 7])\n",
      "torch.Size([2, 2, 2])\n",
      "torch.Size([2, 2])\n",
      "torch.Size([2])\n",
      "tensor([[0, 1, 2, 3, 4],\n",
      "        [5, 6, 7, 8, 9]])\n",
      "tensor([[0, 1],\n",
      "        [2, 3],\n",
      "        [4, 5],\n",
      "        [6, 7],\n",
      "        [8, 9]])\n",
      "tensor([0, 1, 2, 3, 4, 5, 6, 7, 8, 9])\n"
     ]
    }
   ],
   "source": [
    "a = torch.arange(0, 10, step=1)\n",
    "print(a[-1])\n",
    "print(a[0:5])\n",
    "print(a[1:9:2])\n",
    "\n",
    "b = torch.rand(2, 2, 2, 2)\n",
    "print(b[0].shape)\n",
    "print(b[0][0].shape)\n",
    "print(b[0][0][0].shape)\n",
    "\n",
    "c = torch.arange(0, 10)\n",
    "print(c.reshape(2, 5))\n",
    "print(c.reshape(5, 2))\n",
    "d = c.reshape(5, 2)\n",
    "print(d.flatten())"
   ],
   "metadata": {
    "collapsed": false,
    "ExecuteTime": {
     "end_time": "2025-06-16T21:50:19.227724Z",
     "start_time": "2025-06-16T21:50:19.202212Z"
    }
   },
   "id": "67c94634625b2df6"
  },
  {
   "cell_type": "markdown",
   "source": [
    "# Squezing\n",
    "Removes redundant dimensions from a Tensor"
   ],
   "metadata": {
    "collapsed": false
   },
   "id": "73973c9bd05e51d"
  },
  {
   "cell_type": "code",
   "execution_count": 10,
   "outputs": [
    {
     "name": "stdout",
     "output_type": "stream",
     "text": [
      "torch.Size([2, 1, 4, 1])\n",
      "torch.Size([2, 4])\n"
     ]
    }
   ],
   "source": [
    "a = torch.rand(2, 1, 4, 1)\n",
    "print(a.shape)\n",
    "b = a.squeeze()\n",
    "print(b.shape)"
   ],
   "metadata": {
    "collapsed": false,
    "ExecuteTime": {
     "end_time": "2025-06-16T21:50:19.228538Z",
     "start_time": "2025-06-16T21:50:19.206339Z"
    }
   },
   "id": "7c38b1000b100644"
  },
  {
   "cell_type": "markdown",
   "source": [
    "# Concatenation"
   ],
   "metadata": {
    "collapsed": false
   },
   "id": "8b838e31c2a11fec"
  },
  {
   "cell_type": "code",
   "execution_count": 11,
   "outputs": [
    {
     "name": "stdout",
     "output_type": "stream",
     "text": [
      "tensor([[ 0.,  1.,  2.,  3.],\n",
      "        [ 4.,  5.,  6.,  7.],\n",
      "        [ 8.,  9., 10., 11.],\n",
      "        [ 1.,  1.,  1.,  1.],\n",
      "        [ 1.,  1.,  1.,  1.],\n",
      "        [ 1.,  1.,  1.,  1.]])\n",
      "tensor([[ 0.,  1.,  2.,  3.,  1.,  1.,  1.,  1.],\n",
      "        [ 4.,  5.,  6.,  7.,  1.,  1.,  1.,  1.],\n",
      "        [ 8.,  9., 10., 11.,  1.,  1.,  1.,  1.]])\n"
     ]
    }
   ],
   "source": [
    "a = torch.arange(12).reshape(3, 4)\n",
    "b = torch.ones(3, 4)\n",
    "d = torch.cat((a, b), dim=0) # Along the columns\n",
    "e = torch.cat((a, b), dim=1) # Along the rows\n",
    "print(d)\n",
    "print(e)"
   ],
   "metadata": {
    "collapsed": false,
    "ExecuteTime": {
     "end_time": "2025-06-16T21:50:19.229133Z",
     "start_time": "2025-06-16T21:50:19.210101Z"
    }
   },
   "id": "9da7fc12f3042d0a"
  },
  {
   "cell_type": "code",
   "execution_count": 12,
   "outputs": [
    {
     "name": "stdout",
     "output_type": "stream",
     "text": [
      "tensor([1, 2, 3, 4]) [1 2 3 4] tensor([1, 2, 3, 4])\n"
     ]
    }
   ],
   "source": [
    "x = torch.arange(1, 5)\n",
    "y = x.numpy()\n",
    "z = torch.tensor(y)\n",
    "print(x, y, z)"
   ],
   "metadata": {
    "collapsed": false,
    "ExecuteTime": {
     "end_time": "2025-06-16T21:50:19.244895Z",
     "start_time": "2025-06-16T21:50:19.220618Z"
    }
   },
   "id": "8d7307af07e5ff02"
  },
  {
   "cell_type": "code",
   "execution_count": 13,
   "outputs": [
    {
     "name": "stdout",
     "output_type": "stream",
     "text": [
      "tensor([24, 24])\n",
      "tensor([[ 0,  2],\n",
      "        [ 1,  3],\n",
      "        [ 2, -1],\n",
      "        [ 3, 10]])\n",
      "tensor([[0, 1]])\n",
      "tensor([[ 3,  2],\n",
      "        [-1,  5]])\n",
      "tensor([ 1, -1, -1,  3,  2,  3,  0])\n"
     ]
    }
   ],
   "source": [
    "def sum_a(t1: torch.tensor, t2: torch.tensor):\n",
    "    return torch.sum(t1, dim=0) * torch.sum(t2)\n",
    "\n",
    "a = torch.tensor(((1, 1,), (1, 1)))\n",
    "b = torch.tensor(((1, 2, 3), (1, 2, 3)))\n",
    "print(sum_a(a, b))\n",
    "\n",
    "def sum_b(t: torch.tensor):\n",
    "    a = t.flatten()\n",
    "    size = a.shape[0]\n",
    "    b = torch.arange(size)\n",
    "    return torch.concat((b.reshape(size, 1), a.reshape(size, 1)), dim=1)\n",
    "\n",
    "a = torch.tensor([[2, 3], [-1, 10]])\n",
    "b = torch.tensor(1)\n",
    "print(sum_b(a))\n",
    "print(sum_b(b))\n",
    "\n",
    "def sum_c(t1: torch.tensor, t2: torch.tensor):\n",
    "    if torch.numel(t2) == torch.numel(t1): # Can t2 be re-shaped into t1's shape\n",
    "        t2_re = t2.reshape(t1.shape)\n",
    "        return t1 + t2_re\n",
    "    else:\n",
    "        return torch.concat((t1.flatten(), t2.flatten()))\n",
    "    \n",
    "a = torch.tensor([[1, -1], [-1, 3]])\n",
    "b = torch.tensor([2, 3, 0, 2])\n",
    "c = torch.tensor([2, 3, 0])\n",
    "print(sum_c(a, b))\n",
    "print(sum_c(a, c))\n",
    "        \n"
   ],
   "metadata": {
    "collapsed": false,
    "ExecuteTime": {
     "end_time": "2025-06-16T21:50:19.320034Z",
     "start_time": "2025-06-16T21:50:19.232928Z"
    }
   },
   "id": "64d1df7e0b854eb"
  },
  {
   "cell_type": "markdown",
   "source": [
    "# Working with GPUs"
   ],
   "metadata": {
    "collapsed": false
   },
   "id": "7055c0cc9fdcc1c3"
  },
  {
   "cell_type": "code",
   "execution_count": 14,
   "outputs": [
    {
     "name": "stdout",
     "output_type": "stream",
     "text": [
      "cpu\n"
     ]
    }
   ],
   "source": [
    "# Where does the variable live?\n",
    "x = torch.randn(10)\n",
    "print(x.device)"
   ],
   "metadata": {
    "collapsed": false,
    "ExecuteTime": {
     "end_time": "2025-06-16T21:50:19.343515Z",
     "start_time": "2025-06-16T21:50:19.238335Z"
    }
   },
   "id": "327442e89796c615"
  },
  {
   "cell_type": "code",
   "execution_count": 15,
   "outputs": [
    {
     "name": "stdout",
     "output_type": "stream",
     "text": [
      "Is cuda available? False\n",
      "Is MPS available? True\n",
      "tensor([-1.5406,  0.5549,  1.0488,  0.7012,  1.1588, -1.2191, -0.5871, -2.2900,\n",
      "        -0.6908, -0.1875], device='mps:0')\n"
     ]
    }
   ],
   "source": [
    "print(f\"Is cuda available? {torch.cuda.is_available()}\") \n",
    "print(f\"Is MPS available? {torch.backends.mps.is_available()}\")\n",
    "\n",
    "mps = torch.device(\"mps\")\n",
    "x = torch.randn(10, device=mps)\n",
    "print(x)"
   ],
   "metadata": {
    "collapsed": false,
    "ExecuteTime": {
     "end_time": "2025-06-16T21:50:19.439652Z",
     "start_time": "2025-06-16T21:50:19.241565Z"
    }
   },
   "id": "2a0a4e4a56c5c6ec"
  },
  {
   "cell_type": "code",
   "execution_count": 16,
   "outputs": [
    {
     "name": "stdout",
     "output_type": "stream",
     "text": [
      "mps:0\n",
      "cpu\n"
     ]
    },
    {
     "ename": "RuntimeError",
     "evalue": "Expected all tensors to be on the same device, but found at least two devices, mps:0 and cpu!",
     "output_type": "error",
     "traceback": [
      "\u001B[0;31m---------------------------------------------------------------------------\u001B[0m",
      "\u001B[0;31mRuntimeError\u001B[0m                              Traceback (most recent call last)",
      "Cell \u001B[0;32mIn[16], line 7\u001B[0m\n\u001B[1;32m      5\u001B[0m \u001B[38;5;28mprint\u001B[39m(x\u001B[38;5;241m.\u001B[39mdevice)\n\u001B[1;32m      6\u001B[0m \u001B[38;5;28mprint\u001B[39m(y\u001B[38;5;241m.\u001B[39mdevice)\n\u001B[0;32m----> 7\u001B[0m \u001B[38;5;28mprint\u001B[39m(\u001B[43mx\u001B[49m\u001B[38;5;241;43m+\u001B[39;49m\u001B[43my\u001B[49m)\n",
      "\u001B[0;31mRuntimeError\u001B[0m: Expected all tensors to be on the same device, but found at least two devices, mps:0 and cpu!"
     ]
    }
   ],
   "source": [
    "# Cannot work with variables across CPU and GPU\n",
    "\n",
    "x = torch.randn(10, device=mps)\n",
    "y = torch.randn(10)\n",
    "print(x.device)\n",
    "print(y.device)\n",
    "print(x+y)\n"
   ],
   "metadata": {
    "collapsed": false,
    "ExecuteTime": {
     "end_time": "2025-06-16T21:50:19.520208Z",
     "start_time": "2025-06-16T21:50:19.435100Z"
    }
   },
   "id": "ab7612ad603eaa6e"
  },
  {
   "cell_type": "markdown",
   "source": [
    "Moving a variable from the cpu to gpu  "
   ],
   "metadata": {
    "collapsed": false
   },
   "id": "bb8e4334e6c20757"
  },
  {
   "cell_type": "code",
   "execution_count": null,
   "outputs": [],
   "source": [
    "a = torch.tensor([0, 1, 2], device=\"mps\")\n",
    "b = torch.tensor([3, 4, 5], device=\"cpu\")\n",
    "print(a + b.to(\"mps\")) \n",
    "print(a.to(\"cpu\") + b)"
   ],
   "metadata": {
    "collapsed": false,
    "ExecuteTime": {
     "start_time": "2025-06-16T21:50:19.491031Z"
    }
   },
   "id": "86a99efc348c2ffe"
  },
  {
   "cell_type": "markdown",
   "source": [
    "## How much faster is the GPU than the CPU?"
   ],
   "metadata": {
    "collapsed": false
   },
   "id": "1b90446330f97f4b"
  },
  {
   "cell_type": "code",
   "execution_count": null,
   "outputs": [],
   "source": [
    "import time\n",
    "\n",
    "def test_gpu_v_cpu(dim, device):\n",
    "    # We synchronize the PyTorch kernel ops for a fair assessment of performance\n",
    "    torch.mps.synchronize()\n",
    "    x = torch.rand(dim, dim, device=device)\n",
    "    y = torch.rand(dim, dim, device=device)\n",
    "    z = torch.ones(dim, dim, device=device) * 2\n",
    "    \n",
    "    a = x + y\n",
    "    b = x @ z\n",
    "    torch.mps.synchronize()\n",
    "    return a, b\n",
    "    \n",
    "def time_fn(fn, iterations) -> float:\n",
    "    start = time.perf_counter()\n",
    "    print(f\"running timer for {iterations} iterations\")\n",
    "    for i in range(iterations):\n",
    "        fn()\n",
    "    end = time.perf_counter()\n",
    "    return end - start\n",
    "\n",
    "# Perform operations on high dimensional tensors (i.e 1000 x 1000)\n",
    "print(time_fn(lambda: test_gpu_v_cpu(1000, \"mps\"), 100))\n",
    "print(time_fn(lambda: test_gpu_v_cpu(1000, \"cpu\"), 100))\n",
    "\n"
   ],
   "metadata": {
    "collapsed": false,
    "is_executing": true
   },
   "id": "9947d6349ef41f72"
  },
  {
   "cell_type": "markdown",
   "source": [
    "## Datasets and Dataloaders"
   ],
   "metadata": {
    "collapsed": false
   },
   "id": "5efe0a81bbb15279"
  },
  {
   "cell_type": "markdown",
   "source": [],
   "metadata": {
    "collapsed": false
   },
   "id": "36adf3a99f8cee89"
  },
  {
   "cell_type": "markdown",
   "source": [],
   "metadata": {
    "collapsed": false
   },
   "id": "52171f57a111a51"
  },
  {
   "cell_type": "code",
   "execution_count": 3,
   "outputs": [],
   "source": [
    "from torchvision import datasets\n",
    "from torchvision.transforms import ToTensor\n",
    "from torch.utils.data import DataLoader\n",
    "from torchvision.transforms import Compose, Grayscale"
   ],
   "metadata": {
    "collapsed": false,
    "ExecuteTime": {
     "end_time": "2025-06-16T22:05:03.519536Z",
     "start_time": "2025-06-16T22:05:00.433148Z"
    }
   },
   "id": "f4477ac130dfcf31"
  },
  {
   "cell_type": "code",
   "execution_count": null,
   "outputs": [],
   "source": [],
   "metadata": {
    "collapsed": false
   },
   "id": "dcb4e18014ee937c"
  }
 ],
 "metadata": {
  "kernelspec": {
   "display_name": "Python 3",
   "language": "python",
   "name": "python3"
  },
  "language_info": {
   "codemirror_mode": {
    "name": "ipython",
    "version": 2
   },
   "file_extension": ".py",
   "mimetype": "text/x-python",
   "name": "python",
   "nbconvert_exporter": "python",
   "pygments_lexer": "ipython2",
   "version": "2.7.6"
  }
 },
 "nbformat": 4,
 "nbformat_minor": 5
}
