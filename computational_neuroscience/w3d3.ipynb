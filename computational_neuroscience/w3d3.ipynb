{
 "cells": [
  {
   "cell_type": "code",
   "execution_count": 96,
   "id": "initial_id",
   "metadata": {
    "ExecuteTime": {
     "end_time": "2024-07-24T17:14:05.973862Z",
     "start_time": "2024-07-24T17:14:05.571683Z"
    }
   },
   "outputs": [],
   "source": [
    "import numpy as np\n",
    "from math import isclose\n",
    "import matplotlib.pyplot as plt\n",
    "import ipywidgets as widgets"
   ]
  },
  {
   "cell_type": "code",
   "execution_count": 97,
   "id": "325355a9eadf877a",
   "metadata": {
    "ExecuteTime": {
     "end_time": "2024-07-24T17:14:05.985308Z",
     "start_time": "2024-07-24T17:14:05.983879Z"
    },
    "collapsed": false,
    "jupyter": {
     "outputs_hidden": false
    }
   },
   "outputs": [],
   "source": [
    "def plot_fish(fish_state, ax=None, show=True):\n",
    "    \"\"\"\n",
    "    Plot the fish dynamics (states across time)\n",
    "    \"\"\"\n",
    "    T = len(fish_state)\n",
    "\n",
    "    offset = 3\n",
    "\n",
    "    if not ax:\n",
    "        fig, ax = plt.subplots(1, 1, figsize=(12, 3.5))\n",
    "\n",
    "    x = np.arange(0, T, 1)\n",
    "    y = offset * (fish_state*2 - 1)\n",
    "\n",
    "    ax.plot(y, color='cornflowerblue', markersize=10, linewidth=3.0, zorder=0)\n",
    "    ax.fill_between(x, y, color='cornflowerblue', alpha=.3)\n",
    "\n",
    "    ax.set_xlabel('time')\n",
    "    ax.set_ylabel('fish location')\n",
    "\n",
    "    ax.set_xlim([0, T])\n",
    "    ax.set_xticks([])\n",
    "    ax.xaxis.set_label_coords(1.05, .54)\n",
    "\n",
    "    ax.set_ylim([-(offset+.5), offset+.5])\n",
    "    ax.set_yticks([-offset, offset])\n",
    "    ax.set_yticklabels(['left', 'right'])\n",
    "\n",
    "    ax.spines['bottom'].set_position('center')\n",
    "    if show:\n",
    "        plt.show()\n",
    "\n",
    "\n",
    "def plot_measurement(measurement, ax=None, show=True):\n",
    "    \"\"\"\n",
    "    Plot the measurements\n",
    "    \"\"\"\n",
    "    T = len(measurement)\n",
    "\n",
    "    rel_pos = 3\n",
    "    red_y = []\n",
    "    blue_y = []\n",
    "    for idx, value in enumerate(measurement):\n",
    "        if value == 0:\n",
    "            blue_y.append([idx, -rel_pos])\n",
    "        else:\n",
    "            red_y.append([idx, rel_pos])\n",
    "\n",
    "    red_y = np.asarray(red_y)\n",
    "    blue_y = np.asarray(blue_y)\n",
    "\n",
    "    if not ax:\n",
    "        fig, ax = plt.subplots(1, 1, figsize=(12, 3.5))\n",
    "\n",
    "    if len(red_y) > 0:\n",
    "        ax.plot(red_y[:, 0], red_y[:, 1], '*', markersize=8, color='crimson')\n",
    "\n",
    "    if len(blue_y) > 0:\n",
    "        ax.plot(blue_y[:, 0], blue_y[:, 1], '*', markersize=8, color='royalblue')\n",
    "\n",
    "    ax.set_xlabel('time', fontsize=18)\n",
    "    ax.set_ylabel('Caught fish?')\n",
    "\n",
    "    ax.set_xlim([0, T])\n",
    "    ax.set_xticks([])\n",
    "    ax.xaxis.set_label_coords(1.05, .54)\n",
    "\n",
    "    ax.set_ylim([-rel_pos - .5, rel_pos + .5])\n",
    "    ax.set_yticks([-rel_pos, rel_pos])\n",
    "    ax.set_yticklabels(['no', 'yes!'])\n",
    "\n",
    "    ax.spines['bottom'].set_position('center')\n",
    "    if show:\n",
    "        plt.show()\n",
    "\n",
    "\n",
    "def plot_act_loc(loc, act, ax_loc=None, show=True):\n",
    "    \"\"\"\n",
    "    Plot the action and location of T time points\n",
    "    \"\"\"\n",
    "    T = len(act)\n",
    "\n",
    "    if not ax_loc:\n",
    "        fig, ax_loc = plt.subplots(1, 1, figsize=(12, 2.5))\n",
    "\n",
    "    loc = loc*2 - 1\n",
    "    act_down = []\n",
    "    act_up = []\n",
    "    for t in range(1, T):\n",
    "        if loc[t-1] == -1 and loc[t] == 1:\n",
    "            act_up.append([t - 0.5, 0])\n",
    "        if loc[t-1] == 1 and loc[t] == -1:\n",
    "            act_down.append([t - 0.5, 0])\n",
    "\n",
    "    act_down = np.array(act_down)\n",
    "    act_up = np.array(act_up)\n",
    "\n",
    "    ax_loc.plot(loc, 'g.-', markersize=8, linewidth=5)\n",
    "\n",
    "    if len(act_down) > 0:\n",
    "        ax_loc.plot(act_down[:, 0], act_down[:, 1], 'rv', markersize=18, zorder=10, label='switch')\n",
    "\n",
    "    if len(act_up) > 0:\n",
    "        ax_loc.plot(act_up[:, 0], act_up[:, 1], 'r^', markersize=18, zorder=10)\n",
    "\n",
    "    ax_loc.set_xlabel('time')\n",
    "    ax_loc.set_ylabel('Your state')\n",
    "\n",
    "    ax_loc.set_xlim([0, T])\n",
    "    ax_loc.set_xticks([])\n",
    "    ax_loc.xaxis.set_label_coords(1.05, .54)\n",
    "\n",
    "    if len(act_down) > 0:\n",
    "        ax_loc.legend(loc=\"upper right\")\n",
    "    elif len(act_down) == 0 and len(act_up) > 0:\n",
    "        ax_loc.plot(act_up[:, 0], act_up[:, 1], 'r^', markersize=18, zorder=10, label='switch')\n",
    "        ax_loc.legend(loc=\"upper right\")\n",
    "\n",
    "    ax_loc.set_ylim([-1.1, 1.1])\n",
    "    ax_loc.set_yticks([-1, 1])\n",
    "\n",
    "    ax_loc.tick_params(axis='both', which='major')\n",
    "    ax_loc.set_yticklabels(['left', 'right'])\n",
    "\n",
    "    ax_loc.spines['bottom'].set_position('center')\n",
    "\n",
    "    if show:\n",
    "        plt.show()\n",
    "\n",
    "\n",
    "def plot_belief(belief, ax1=None, choose_policy=None, show=True):\n",
    "    \"\"\"\n",
    "    Plot the belief dynamics of T time points\n",
    "    \"\"\"\n",
    "\n",
    "    T = belief.shape[1]\n",
    "\n",
    "    if not ax1:\n",
    "        fig, ax1 = plt.subplots(1, 1, figsize=(12, 2.5))\n",
    "\n",
    "    ax1.plot(belief[1, :], color='midnightblue', markersize=10, linewidth=3.0)\n",
    "\n",
    "    ax1.set_xlabel('time')\n",
    "    ax1.set_ylabel('Belief (right)')\n",
    "\n",
    "    ax1.set_xlim([0, T])\n",
    "    ax1.set_xticks([])\n",
    "    ax1.xaxis.set_label_coords(1.05, 0.05)\n",
    "\n",
    "    ax1.set_yticks([0, 1])\n",
    "    ax1.set_ylim([0, 1.1])\n",
    "\n",
    "    labels = [item.get_text() for item in ax1.get_yticklabels()]\n",
    "    ax1.set_yticklabels(['    0', '    1'])\n",
    "\n",
    "    \"\"\"\n",
    "    if choose_policy == \"threshold\":\n",
    "      ax2 = ax1.twinx()\n",
    "      ax2.plot(time_range, threshold * np.ones(time_range.shape), 'r--')\n",
    "      ax2.plot(time_range, (1 - threshold) * np.ones(time_range.shape), 'c--')\n",
    "      ax2.set_yticks([threshold, 1 - threshold])\n",
    "      ax2.set_ylim([0, 1.1])\n",
    "      ax2.tick_params(axis='both', which='major', labelsize=18)\n",
    "      labels = [item.get_text() for item in ax2.get_yticklabels()]\n",
    "      labels[0] = 'threshold to switch \\n from left to right'\n",
    "      labels[-1] = 'threshold to switch \\n from right to left'\n",
    "      ax2.set_yticklabels(labels)\n",
    "    \"\"\"\n",
    "    if show:\n",
    "        plt.show()\n",
    "\n",
    "\n",
    "def plot_dynamics(belief, loc, act, meas, fish_state, choose_policy):\n",
    "    \"\"\"\n",
    "    Plot the dynamics of T time points\n",
    "    \"\"\"\n",
    "    if choose_policy == 'threshold':\n",
    "        fig, [ax0, ax_bel, ax_loc, ax1] = plt.subplots(4, 1, figsize=(12, 9))\n",
    "        plot_fish(fish_state, ax=ax0, show=False)\n",
    "        plot_belief(belief, ax1=ax_bel, show=False)\n",
    "        plot_measurement(meas, ax=ax1, show=False)\n",
    "        plot_act_loc(loc, act, ax_loc=ax_loc)\n",
    "    else:\n",
    "        fig, [ax0, ax_bel, ax1] = plt.subplots(3, 1, figsize=(12, 7))\n",
    "        plot_fish(fish_state, ax=ax0, show=False)\n",
    "        plot_belief(belief, ax1=ax_bel, show=False)\n",
    "        plot_measurement(meas, ax=ax1, show=False)\n",
    "\n",
    "    plt.tight_layout()\n",
    "    plt.show()\n",
    "\n",
    "\n",
    "def belief_histogram(belief, bins=100):\n",
    "    \"\"\"\n",
    "    Plot the histogram of belief states\n",
    "    \"\"\"\n",
    "    fig, ax = plt.subplots(1, 1, figsize=(8, 6))\n",
    "    ax.hist(belief, bins)\n",
    "    ax.set_xlabel('belief', fontsize=18)\n",
    "    ax.set_ylabel('count', fontsize=18)\n",
    "    plt.show()\n",
    "\n",
    "\n",
    "def plot_value_threshold(threshold_array, value_array):\n",
    "    \"\"\"\n",
    "    Helper function to plot the value function and threshold\n",
    "    \"\"\"\n",
    "    yrange = np.max(value_array) - np.min(value_array)\n",
    "    star_loc = np.argmax(value_array)\n",
    "\n",
    "    fig_, ax = plt.subplots(1, 1, figsize=(8, 6))\n",
    "    ax.plot(threshold_array, value_array, 'b')\n",
    "    ax.vlines(threshold_array[star_loc],\n",
    "              min(value_array) - yrange * .1, max(value_array),\n",
    "              colors='red', ls='--')\n",
    "    ax.plot(threshold_array[star_loc],\n",
    "            value_array[star_loc],\n",
    "            '*', color='crimson',\n",
    "            markersize=20)\n",
    "\n",
    "    ax.set_ylim([np.min(value_array) - yrange * .1,\n",
    "                 np.max(value_array) + yrange * .1])\n",
    "    ax.set_title(f'threshold vs value with switching cost c = {cost_sw:.2f}',\n",
    "                 fontsize=20)\n",
    "    ax.set_xlabel('threshold', fontsize=16)\n",
    "    ax.set_ylabel('value', fontsize=16)\n",
    "    plt.show()"
   ]
  },
  {
   "cell_type": "code",
   "execution_count": 98,
   "id": "9ec5ff12675534e6",
   "metadata": {
    "ExecuteTime": {
     "end_time": "2024-07-24T17:14:06.428047Z",
     "start_time": "2024-07-24T17:14:06.407214Z"
    },
    "collapsed": false,
    "jupyter": {
     "outputs_hidden": false
    }
   },
   "outputs": [],
   "source": [
    "# @title Helper Functions\n",
    "\n",
    "# To generate a binomial with fixed \"noise\",\n",
    "# we generate a fist sequence of T numbers uniformly at random\n",
    "# this sequence can be changed later with different size T\n",
    "np.random.seed(42)\n",
    "init_T = 100\n",
    "rnd_tele = np.random.uniform(0, 1, init_T)\n",
    "rnd_high_rwd = np.random.uniform(0, 1, init_T)\n",
    "rnd_low_rwd = np.random.uniform(0, 1, init_T)\n",
    "\n",
    "\n",
    "def get_randomness(T):\n",
    "\n",
    "    global rnd_tele\n",
    "    global rnd_high_rwd\n",
    "    global rnd_low_rwd\n",
    "\n",
    "    rnd_tele = np.random.uniform(0, 1, T)\n",
    "    rnd_high_rwd = np.random.uniform(0, 1, T)\n",
    "    rnd_low_rwd = np.random.uniform(0, 1, T)\n",
    "\n",
    "\n",
    "def binomial_tele(p, T):\n",
    "    if len(rnd_tele) < T:\n",
    "        get_randomness(T)\n",
    "\n",
    "    return np.array([1 if p > rnd_tele[i] else 0 for i in range(T)])\n",
    "\n",
    "\n",
    "# Need a better name\n",
    "def getRandomness(p, T):\n",
    "\n",
    "    global rnd_tele\n",
    "    global rnd_high_rwd\n",
    "    global rnd_low_rwd\n",
    "\n",
    "    rnd_tele = np.random.uniform(0, 1, T)\n",
    "    rnd_high_rwd = np.random.uniform(0, 1, T)\n",
    "    rnd_low_rwd = np.random.uniform(0, 1, T)\n",
    "\n",
    "    return [binomial_tele(p, T), rnd_high_rwd, rnd_low_rwd]\n",
    "\n",
    "\n",
    "class ExcerciseError(AssertionError):\n",
    "    pass\n",
    "\n",
    "\n",
    "class binaryHMM():\n",
    "\n",
    "    def __init__(self, params, T, fish_initial=0, loc_initial=0):\n",
    "        self.params = params\n",
    "        self.fish_initial = fish_initial\n",
    "        self.loc_initial = loc_initial\n",
    "        self.T = T\n",
    "\n",
    "    def fish_dynamics(self):\n",
    "        \"\"\"\n",
    "        fish state dynamics according to telegraph process\n",
    "    \n",
    "        Returns:\n",
    "          fish_state (numpy array of int)\n",
    "        \"\"\"\n",
    "\n",
    "        p_stay, _, _, _ = self.params\n",
    "        fish_state = np.zeros(self.T, int)  # 0: left side and 1: right side\n",
    "\n",
    "        # initialization\n",
    "        fish_state[0] = self.fish_initial\n",
    "        tele_operations = binomial_tele(p_stay, self.T) # 0: switch and 1: stay\n",
    "\n",
    "        for t in range(1, self.T):\n",
    "            # we use logical operation NOT XOR to determine the next state\n",
    "            fish_state[t] = int(not(fish_state[t-1] ^ tele_operations[t]))\n",
    "\n",
    "        return fish_state\n",
    "\n",
    "    def generate_process_lazy(self):\n",
    "        \"\"\"\n",
    "        fish dynamics and rewards if you always stay in the initial location\n",
    "        without changing sides\n",
    "    \n",
    "        Returns:\n",
    "          fish_state (numpy array of int): locations of the fish\n",
    "          loc (numpy array of int): left or right site, 0 for left, and 1 for right\n",
    "          rwd (numpy array of binary): whether a fish was catched or not\n",
    "        \"\"\"\n",
    "\n",
    "        _, p_low_rwd, p_high_rwd, _ = self.params\n",
    "\n",
    "        fish_state = self.fish_dynamics()\n",
    "        rwd = np.zeros(self.T, int)  # 0: no food, 1: get food\n",
    "\n",
    "        for t in range(0, self.T):\n",
    "            # new measurement\n",
    "            if fish_state[t] != self.loc_initial:\n",
    "                rwd[t] = 1 if p_low_rwd > rnd_low_rwd[t] else 0\n",
    "            else:\n",
    "                rwd[t] = 1 if p_high_rwd > rnd_high_rwd[t] else 0\n",
    "\n",
    "            # rwd[t] = binomial(1, p_rwd_vector[(fish_state[t] == loc[t]) * 1])\n",
    "        return fish_state, self.loc_initial*np.ones(self.T), rwd\n",
    "\n",
    "\n",
    "class binaryHMM_belief(binaryHMM):\n",
    "\n",
    "    def __init__(self, params, T,\n",
    "                 fish_initial=0, loc_initial=1,\n",
    "                 choose_policy='threshold'):\n",
    "\n",
    "        binaryHMM.__init__(self, params, T, fish_initial, loc_initial)\n",
    "        self.choose_policy = choose_policy\n",
    "\n",
    "    def generate_process(self):\n",
    "        \"\"\"\n",
    "        fish dynamics and measurements based on the chosen policy\n",
    "    \n",
    "        Returns:\n",
    "          belief (numpy array of float): belief on the states of the two sites\n",
    "          act (numpy array of string): actions over time\n",
    "          loc (numpy array of int): left or right site\n",
    "          measurement (numpy array of binary): whether a reward is obtained\n",
    "          fish_state (numpy array of int): fish locations\n",
    "        \"\"\"\n",
    "\n",
    "        p_stay, low_rew_p, high_rew_p, threshold = self.params\n",
    "        fish_state = self.fish_dynamics()     # 0: left side; 1: right side\n",
    "        loc = np.zeros(self.T, int)                # 0: left side, 1: right side\n",
    "        measurement = np.zeros(self.T, int)        # 0: no food, 1: get food\n",
    "        act = np.empty(self.T, dtype='object')     # \"stay\", or \"switch\"\n",
    "        belief = np.zeros((2, self.T), float)      # the probability that the fish is on the left (1st element)\n",
    "        # or on the right (2nd element),\n",
    "        # the beliefs on the two boxes sum up to be 1\n",
    "\n",
    "        rew_prob = np.array([low_rew_p, high_rew_p])\n",
    "\n",
    "        # initialization\n",
    "        loc[0] = self.loc_initial\n",
    "        measurement[0] = 0\n",
    "        belief_0 = np.random.random(1)[0]\n",
    "        belief[:, 0] = np.array([belief_0, 1 - belief_0])\n",
    "        act[0] = self.policy(threshold, belief[:, 0], loc[0])\n",
    "\n",
    "        for t in range(1, self.T):\n",
    "            if act[t - 1] == \"stay\":\n",
    "                loc[t] = loc[t - 1]\n",
    "            else:\n",
    "                loc[t] = int(not(loc[t - 1] ^ 0))\n",
    "\n",
    "            # new measurement\n",
    "            # measurement[t] = binomial(1, rew_prob[(fish_state[t] == loc[t]) * 1])\n",
    "            if fish_state[t] != loc[t]:\n",
    "                measurement[t] = 1 if low_rew_p > rnd_low_rwd[t] else 0\n",
    "            else:\n",
    "                measurement[t] = 1 if high_rew_p > rnd_high_rwd[t] else 0\n",
    "\n",
    "            belief[0, t] = self.belief_update(belief[0, t - 1] , loc[t],\n",
    "                                              measurement[t], p_stay,\n",
    "                                              high_rew_p, low_rew_p)\n",
    "            belief[1, t] = 1 - belief[0, t]\n",
    "\n",
    "            act[t] = self.policy(threshold, belief[:, t], loc[t])\n",
    "\n",
    "        return belief, loc, act, measurement, fish_state\n",
    "\n",
    "    def policy(self, threshold, belief, loc):\n",
    "        \"\"\"\n",
    "        chooses policy based on whether it is lazy policy\n",
    "            or a threshold-based policy\n",
    "    \n",
    "        Args:\n",
    "          threshold (float): the threshold of belief on the current site,\n",
    "              when the belief is lower than the threshold, switch side\n",
    "          belief (numpy array of float): the belief on the two sites\n",
    "          loc (int) : the location of the agent\n",
    "    \n",
    "        Returns:\n",
    "          act (string): \"stay\" or \"switch\"\n",
    "        \"\"\"\n",
    "        if self.choose_policy == \"threshold\":\n",
    "            act = policy_threshold(threshold, belief, loc)\n",
    "        if self.choose_policy == \"lazy\":\n",
    "            act = policy_lazy(belief, loc)\n",
    "\n",
    "        return act\n",
    "\n",
    "    def belief_update(self, belief_past, loc, measurement, p_stay,\n",
    "                      high_rew_p, low_rew_p):\n",
    "        \"\"\"\n",
    "        using PAST belief on the LEFT box, CURRENT location and\n",
    "            and measurement to update belief\n",
    "        \"\"\"\n",
    "        rew_prob_matrix = np.array([[1 - high_rew_p, high_rew_p],\n",
    "                                    [1 - low_rew_p, low_rew_p]])\n",
    "\n",
    "        # update belief posterior, p(s[t] | measurement(0-t), act(0-t-1))\n",
    "        belief_0 = (belief_past * p_stay  + (1 - belief_past) * (1 - p_stay)) * \\\n",
    "                   rew_prob_matrix[(loc + 1) // 2, measurement]\n",
    "        belief_1 = ((1 - belief_past) * p_stay + belief_past * (1 - p_stay)) * \\\n",
    "                   rew_prob_matrix[1-(loc + 1) // 2, measurement]\n",
    "\n",
    "        belief_0 = belief_0 / (belief_0 + belief_1)\n",
    "\n",
    "        return belief_0\n",
    "\n",
    "\n",
    "def policy_lazy(belief, loc):\n",
    "    \"\"\"\n",
    "    This function is a lazy policy where stay is also taken\n",
    "    \"\"\"\n",
    "    act = \"stay\"\n",
    "\n",
    "    return act\n",
    "\n",
    "\n",
    "def test_policy_threshold():\n",
    "    well_done = True\n",
    "    for loc in [-1, 1]:\n",
    "        threshold = 0.4\n",
    "        belief = np.array([.2, .3])\n",
    "        if policy_threshold(threshold, belief, loc) != \"switch\":\n",
    "            raise ExcerciseError(\"'policy_threshold' function is not correctly implemented!\")\n",
    "    for loc in [1, -1]:\n",
    "        threshold = 0.6\n",
    "        belief = np.array([.7, .8])\n",
    "        if policy_threshold(threshold, belief, loc) != \"stay\":\n",
    "            raise ExcerciseError(\"'policy_threshold' function is not correctly implemented!\")\n",
    "    print(\"Well Done!\")\n",
    "\n",
    "\n",
    "def test_policy_threshold():\n",
    "    for loc in [-1, 1]:\n",
    "        threshold = 0.4\n",
    "        belief = np.ones(2) * (threshold + 0.1)\n",
    "        belief[(loc + 1) // 2] = threshold - 0.1\n",
    "\n",
    "        if policy_threshold(threshold, belief, loc) != \"switch\":\n",
    "            raise ExcerciseError(\"'policy_threshold' function is not correctly implemented!\")\n",
    "        if policy_threshold(threshold, belief, -1 * loc) != \"stay\":\n",
    "            raise ExcerciseError(\"'policy_threshold' function is not correctly implemented!\")\n",
    "\n",
    "    print(\"Well Done!\")\n",
    "\n",
    "\n",
    "def test_value_function():\n",
    "    measurement = np.array([0, 0, 0, 1, 0, 0, 0, 0, 1, 1])\n",
    "    act = np.array([\"switch\", \"stay\", \"switch\", \"stay\", \"stay\",\n",
    "                    \"stay\", \"switch\", \"switch\", \"stay\", \"stay\"])\n",
    "    cost_sw = .5\n",
    "    if not isclose(get_value(measurement, act, cost_sw), .1):\n",
    "        raise ExcerciseError(\"'value_function' function is not correctly implemented!\")\n",
    "    print(\"Well Done!\")"
   ]
  },
  {
   "cell_type": "code",
   "execution_count": 99,
   "id": "b77378cb05449b20",
   "metadata": {
    "ExecuteTime": {
     "end_time": "2024-07-24T17:26:24.119683Z",
     "start_time": "2024-07-24T17:26:24.025480Z"
    },
    "collapsed": false,
    "jupyter": {
     "outputs_hidden": false
    }
   },
   "outputs": [
    {
     "data": {
      "application/vnd.jupyter.widget-view+json": {
       "model_id": "a32c996611744574b3763fe7c530b1e2",
       "version_major": 2,
       "version_minor": 0
      },
      "text/plain": [
       "interactive(children=(FloatSlider(value=0.9, description='stay_prob', max=1.0, step=0.01), Output()), _dom_cla…"
      ]
     },
     "metadata": {},
     "output_type": "display_data"
    }
   ],
   "source": [
    "@widgets.interact(p_stay=widgets.FloatSlider(.9, description=\"stay_prob\", min=0., max=1., step=0.01))\n",
    "\n",
    "def update_ex_1(p_stay):\n",
    "    \"\"\"\n",
    "      T: Length of timeline\n",
    "      p_stay: probability that the fish do not swim to the other side at time t\n",
    "    \"\"\"\n",
    "    params = [p_stay, _, _, _]\n",
    "\n",
    "    # initial condition: fish [fish_initial] start at the left location (-1)\n",
    "    binaryHMM_test = binaryHMM(params=params, fish_initial=1, T=100)\n",
    "\n",
    "    fish_state = binaryHMM_test.fish_dynamics()\n",
    "    plot_fish(fish_state)\n",
    "\n",
    "plt.show()"
   ]
  },
  {
   "cell_type": "code",
   "execution_count": 100,
   "id": "de416c29442cc55c",
   "metadata": {
    "ExecuteTime": {
     "end_time": "2024-07-24T17:35:19.819551Z",
     "start_time": "2024-07-24T17:35:19.749800Z"
    },
    "collapsed": false,
    "jupyter": {
     "outputs_hidden": false
    }
   },
   "outputs": [
    {
     "data": {
      "application/vnd.jupyter.widget-view+json": {
       "model_id": "9075973365f344f48bac872342f9cef7",
       "version_major": 2,
       "version_minor": 0
      },
      "text/plain": [
       "interactive(children=(RadioButtons(description='Fish and agent:', layout=Layout(width='max-content'), options=…"
      ]
     },
     "metadata": {},
     "output_type": "display_data"
    }
   ],
   "source": [
    "\n",
    "@widgets.interact(locs=widgets.RadioButtons(options=['same location', 'different locations'],\n",
    "                                            description='Fish and agent:',\n",
    "                                            disabled=False,\n",
    "                                            layout={'width': 'max-content'}),\n",
    "                  p_low_rwd=widgets.FloatSlider(.1, description=\"low_rew_prob:\",\n",
    "                                                min=0., max=1.),\n",
    "                  p_high_rwd=widgets.FloatSlider(.9, description=\"high_rew_prob:\",\n",
    "                                                 min=0., max=1.))\n",
    "\n",
    "def update_ex_2(locs, p_low_rwd, p_high_rwd):\n",
    "    \"\"\"\n",
    "      p_stay: probability of fish staying at current side at time t\n",
    "      p_low_rwd: probability of catching fish when you're NOT on the side where the fish are swimming\n",
    "      p_high_rwd: probability of catching fish when you're on the side where the fish are swimming\n",
    "      fish_initial: initial side of fish (-1 left, 1 right)\n",
    "      agent_initial: initial side of the agent (YOU!) (-1 left, 1 right)\n",
    "    \"\"\"\n",
    "    p_stay = 1\n",
    "    params = [p_stay, p_low_rwd, p_high_rwd, _]\n",
    "\n",
    "    # initial condition for fish [fish_initial] and you [loc_initial]\n",
    "    if locs == 'same location':\n",
    "        binaryHMM_test = binaryHMM(params, fish_initial=0, loc_initial=0, T=100)\n",
    "    else:\n",
    "        binaryHMM_test = binaryHMM(params, fish_initial=1, loc_initial=0, T=100)\n",
    "\n",
    "    fish_state, loc, measurement = binaryHMM_test.generate_process_lazy()\n",
    "    plot_measurement(measurement)"
   ]
  },
  {
   "cell_type": "code",
   "execution_count": 101,
   "id": "6d2c59ff175cf110",
   "metadata": {
    "collapsed": false,
    "jupyter": {
     "outputs_hidden": false
    }
   },
   "outputs": [
    {
     "data": {
      "application/vnd.jupyter.widget-view+json": {
       "model_id": "db1b938e68f646ef80d07fa731d21e63",
       "version_major": 2,
       "version_minor": 0
      },
      "text/plain": [
       "interactive(children=(FloatSlider(value=0.96, description='stay_prob', max=1.0, min=0.8, step=0.01), FloatSlid…"
      ]
     },
     "metadata": {},
     "output_type": "display_data"
    }
   ],
   "source": [
    "@widgets.interact(p_stay=widgets.FloatSlider(.96, description=\"stay_prob\",\n",
    "                                             min=.8, max=1., step=.01),\n",
    "                  p_low_rwd=widgets.FloatSlider(.1, description=\"low_rew_prob\",\n",
    "                                                min=0., max=1., step=.01),\n",
    "                  p_high_rwd=widgets.FloatSlider(.3, description=\"high_rew_prob\",\n",
    "                                                 min=0., max=1., step=.01))\n",
    "\n",
    "def update_ex_2(p_stay, p_low_rwd, p_high_rwd):\n",
    "    \"\"\"\n",
    "      T: Length of timeline\n",
    "      p_stay: probability of fish staying at current side at time t\n",
    "      p_high_rwd: probability of catching fish when you're on the side where the fish are swimming\n",
    "      p_low_rwd: probability of catching fish when you're NOT on the side where the fish are swimming\n",
    "      fish_initial: initial side of fish (0 left, 1 right)\n",
    "      agent_initial: initial side of the agent (YOU!) (0 left, 1 right)\n",
    "      threshold: threshold of belief below which the action is switching\n",
    "    \"\"\"\n",
    "    threshold = 0.2\n",
    "    params = [p_stay, p_low_rwd, p_high_rwd, threshold]\n",
    "\n",
    "    binaryHMM_test = binaryHMM_belief(params, choose_policy=\"lazy\",\n",
    "                                      fish_initial=0, loc_initial=0, T=100)\n",
    "\n",
    "    belief, loc, act, measurement, fish_state = binaryHMM_test.generate_process()\n",
    "    plot_dynamics(belief, loc, act, measurement, fish_state,\n",
    "                  binaryHMM_test.choose_policy)"
   ]
  },
  {
   "cell_type": "code",
   "execution_count": 102,
   "id": "53bb3046d90cf009",
   "metadata": {
    "ExecuteTime": {
     "end_time": "2024-07-24T17:56:11.836668Z",
     "start_time": "2024-07-24T17:56:11.811811Z"
    },
    "collapsed": false,
    "jupyter": {
     "outputs_hidden": false
    }
   },
   "outputs": [
    {
     "name": "stdout",
     "output_type": "stream",
     "text": [
      "Well Done!\n"
     ]
    }
   ],
   "source": [
    "def policy_threshold(threshold, belief, loc):\n",
    "    \"\"\"\n",
    "    chooses whether to switch side based on whether the belief\n",
    "        on the current site drops below the threshold\n",
    "  \n",
    "    Args:\n",
    "      threshold (float): the threshold of belief on the current site,\n",
    "                          when the belief is lower than the threshold, switch side\n",
    "      belief (numpy array of float, 2-dimensional): the belief on the\n",
    "                                                    two sites at a certain time\n",
    "      loc (int) : the location of the agent at a certain time\n",
    "                  -1 for left side, 1 for right side\n",
    "  \n",
    "    Returns:\n",
    "      act (string): \"stay\" or \"switch\"\n",
    "    \"\"\"\n",
    "\n",
    "    ############################################################################\n",
    "    ## 1. Modify the code below to generate actions (stay or switch)\n",
    "    ##    for current belief and location\n",
    "    ##\n",
    "    ## Belief is a 2d vector: first element = Prob(fish on Left | measurements)\n",
    "    ##                       second element = Prob(fish on Right  | measurements)\n",
    "    ## Returns \"switch\" if Belief that fish are in your current location < threshold\n",
    "    ##         \"stay\" otherwise\n",
    "    ##\n",
    "    ## Hint: use loc value to determine which row of belief you need to use\n",
    "    ##       see the docstring for more information about loc\n",
    "    ##\n",
    "    ## 2. After completing the function, comment this line:\n",
    "    current_loc_index = 0 if loc == -1 else 1 \n",
    "    if belief[current_loc_index] < threshold:\n",
    "        # action below threshold\n",
    "        act = 'switch'\n",
    "    else:\n",
    "        # action above threshold\n",
    "        act = 'stay'\n",
    "\n",
    "    return act\n",
    "\n",
    "\n",
    "# Next line tests your function\n",
    "test_policy_threshold()"
   ]
  },
  {
   "cell_type": "code",
   "execution_count": 103,
   "id": "93bf95a3a4da762c",
   "metadata": {
    "ExecuteTime": {
     "end_time": "2024-07-24T18:01:45.901672Z",
     "start_time": "2024-07-24T18:01:45.741574Z"
    },
    "collapsed": false,
    "jupyter": {
     "outputs_hidden": false
    }
   },
   "outputs": [
    {
     "data": {
      "application/vnd.jupyter.widget-view+json": {
       "model_id": "c195f124ac84441ba2a76771cc14bc81",
       "version_major": 2,
       "version_minor": 0
      },
      "text/plain": [
       "interactive(children=(FloatSlider(value=0.2, description='threshold', max=1.0, step=0.01), ToggleButtons(descr…"
      ]
     },
     "metadata": {},
     "output_type": "display_data"
    }
   ],
   "source": [
    "@widgets.interact(threshold=widgets.FloatSlider(.2, description=\"threshold\", min=0., max=1., step=.01),\n",
    "                  new_seed=widgets.ToggleButtons(options=['Reusing', 'Refreshing'],\n",
    "                                                 description='Random seed:',\n",
    "                                                 disabled=False,\n",
    "                                                 button_style='', # 'success', 'info', 'warning', 'danger' or '',\n",
    "                                                 icons=['check'] * 2\n",
    "                                                 ))\n",
    "def update_ex_4(threshold, new_seed):\n",
    "    \"\"\"\n",
    "      p_stay: probability fish stay\n",
    "      high_rew_p: p(catch fish) when you're on their side\n",
    "      low_rew_p : p(catch fish) when you're on other side\n",
    "      threshold: threshold of belief below which switching is taken\n",
    "  \n",
    "    \"\"\"\n",
    "    if new_seed == \"Refreshing\":\n",
    "        get_randomness(T=100)\n",
    "\n",
    "    stay_prob=.95\n",
    "    high_rew_p=.3\n",
    "    low_rew_p=.1\n",
    "\n",
    "    params = [stay_prob, high_rew_p, low_rew_p, threshold]\n",
    "\n",
    "    # initial condition for fish [fish_initial] and you [loc_initial]\n",
    "    binaryHMM_test = binaryHMM_belief(params, fish_initial=0, loc_initial=0, choose_policy=\"threshold\", T=100)\n",
    "\n",
    "    belief, loc, act, measurement, fish_state = binaryHMM_test.generate_process()\n",
    "    plot_dynamics(belief, loc, act, measurement,\n",
    "                  fish_state, binaryHMM_test.choose_policy)\n",
    "    plt.show()"
   ]
  },
  {
   "cell_type": "code",
   "execution_count": 104,
   "id": "ad2c0d07df424fb3",
   "metadata": {
    "ExecuteTime": {
     "end_time": "2024-07-24T18:13:14.455116Z",
     "start_time": "2024-07-24T18:13:14.439854Z"
    },
    "collapsed": false,
    "jupyter": {
     "outputs_hidden": false
    }
   },
   "outputs": [
    {
     "name": "stdout",
     "output_type": "stream",
     "text": [
      "Well Done!\n"
     ]
    }
   ],
   "source": [
    "def get_value(rewards, actions, cost_sw):\n",
    "    \"\"\"\n",
    "    value function\n",
    "  \n",
    "    Args:\n",
    "      rewards (numpy array of length T): whether a reward is obtained (1) or not (0) at each time step\n",
    "      actions (numpy array of length T): action, \"stay\" or \"switch\", taken at each time step.\n",
    "      cost_sw (float): the cost of switching to the other location\n",
    "  \n",
    "    Returns:\n",
    "      value (float): expected utility per unit time\n",
    "    \"\"\"\n",
    "    actions_int = (actions == \"switch\").astype(int)\n",
    "\n",
    "    # Calculate the value function\n",
    "    value = np.sum(rewards - actions_int * cost_sw) / rewards.shape[0]\n",
    "\n",
    "    return value\n",
    "\n",
    "\n",
    "# Test your function\n",
    "test_value_function()"
   ]
  },
  {
   "cell_type": "code",
   "execution_count": 105,
   "id": "902bde35f98f2ea7",
   "metadata": {
    "ExecuteTime": {
     "end_time": "2024-07-24T18:20:38.866525Z",
     "start_time": "2024-07-24T18:20:38.299079Z"
    },
    "collapsed": false,
    "jupyter": {
     "outputs_hidden": false
    }
   },
   "outputs": [
    {
     "data": {
      "image/png": "[encoded data removed]",
      "text/plain": [
       "<Figure size 800x600 with 1 Axes>"
      ]
     },
     "metadata": {},
     "output_type": "display_data"
    }
   ],
   "source": [
    "large_time_horizon = 10000\n",
    "get_randomness(large_time_horizon)\n",
    "\n",
    "def run_policy(threshold, p_stay, low_rew_p, high_rew_p):\n",
    "    \"\"\"\n",
    "    This function executes the policy (fully parameterized by the threshold) and\n",
    "    returns two arrays:\n",
    "      The sequence of actions taken from time 0 to T\n",
    "      The sequence of rewards obtained from time 0 to T\n",
    "    \"\"\"\n",
    "\n",
    "    params = [p_stay, low_rew_p, high_rew_p, threshold]\n",
    "    binaryHMM_test = binaryHMM_belief(params, choose_policy=\"threshold\", T=large_time_horizon)\n",
    "    _, _, actions, rewards, _ = binaryHMM_test.generate_process()\n",
    "    return actions, rewards\n",
    "\n",
    "\n",
    "def get_optimal_threshold(p_stay, low_rew_p, high_rew_p, cost_sw):\n",
    "    \"\"\"\n",
    "    Args:\n",
    "      p_stay (float): probability of fish staying in their current location\n",
    "      low_rew_p (float): probability of catching fish when you and the fist are in different locations.\n",
    "      high_rew_p (float): probability of catching fish when you and the fist are in the same location.\n",
    "      cost_sw (float): the cost of switching to the other location\n",
    "  \n",
    "    Returns:\n",
    "      value (float): expected utility per unit time\n",
    "    \"\"\"\n",
    "    \n",
    "    # Create an array of 20 equally distanced candidate thresholds (min = 0., max=1.):\n",
    "    threshold_array = np.linspace(0.0, 1.0, 20) \n",
    "\n",
    "    # Using the function get_value() that you coded before and\n",
    "    # the function run_policy() that we provide, compute the value of your\n",
    "    # candidate thresholds:\n",
    "\n",
    "    # Create an array to store the value of each of your candidates:\n",
    "    value_array = np.zeros_like(threshold_array)\n",
    "\n",
    "    for i in range(len(threshold_array)):\n",
    "        actions, rewards = run_policy(threshold_array[i], p_stay, low_rew_p, high_rew_p)\n",
    "        value_array[i] = get_value(rewards, actions, cost_sw)\n",
    "\n",
    "    # Return the array of candidate thresholds and their respective values\n",
    "\n",
    "    return threshold_array, value_array\n",
    "\n",
    "\n",
    "# Feel free to change these parameters\n",
    "stay_prob = .9         # Fish stay at current location with probability stay_prob\n",
    "low_rew_prob = 0.1     # Even if fish are somewhere else, you can catch some fish with probability low_rew_prob\n",
    "high_rew_prob = 0.7    # When you and the fish are in the same place, you can catch fish with probability high_rew_prob\n",
    "cost_sw = .1           # When you switch locations, you pay this cost: cost_sw\n",
    "\n",
    "\n",
    "# Visually determine the threshold that obtains the maximum utility.\n",
    "# Remember, policies are parameterized by a threshold on beliefs:\n",
    "# when your belief that the fish are on your current side falls below a threshold 𝜃, you switch to the other side.\n",
    "threshold_array, value_array = get_optimal_threshold(stay_prob, low_rew_prob, high_rew_prob, cost_sw)\n",
    "plot_value_threshold(threshold_array, value_array)"
   ]
  },
  {
   "cell_type": "code",
   "execution_count": 106,
   "id": "89a622dd041835d8",
   "metadata": {
    "ExecuteTime": {
     "end_time": "2024-07-24T19:59:52.665424Z",
     "start_time": "2024-07-24T19:59:52.661220Z"
    },
    "collapsed": false,
    "jupyter": {
     "outputs_hidden": false
    }
   },
   "outputs": [],
   "source": [
    "import numpy as np\n",
    "import matplotlib.pyplot as plt\n",
    "from matplotlib import gridspec\n",
    "from collections import namedtuple\n",
    "import ipywidgets as widgets\n"
   ]
  },
  {
   "cell_type": "code",
   "execution_count": 107,
   "id": "48556f999ceacfb2",
   "metadata": {
    "ExecuteTime": {
     "end_time": "2024-07-24T20:00:06.250941Z",
     "start_time": "2024-07-24T20:00:06.226829Z"
    },
    "collapsed": false,
    "jupyter": {
     "outputs_hidden": false
    }
   },
   "outputs": [],
   "source": [
    "def plot_vs_time(s, slabel, color, goal=None, ylabel=None, show=True):\n",
    "    plt.plot(s, color, label=slabel)\n",
    "    if goal is not None:\n",
    "        plt.plot(goal, 'm--', label='goal $g$')\n",
    "    plt.xlabel(\"Time\", fontsize=14)\n",
    "    plt.legend(loc=\"upper right\")\n",
    "\n",
    "    if ylabel:\n",
    "        plt.ylabel(ylabel, fontsize=14)\n",
    "    if show:\n",
    "        plt.show()\n",
    "\n",
    "\n",
    "def plot_kf_state_vs_time(latent_states, estimates, title, goal=None):\n",
    "\n",
    "    fig = plt.figure(figsize=(12, 4))\n",
    "    plt.suptitle(title, y=1.05)\n",
    "    gs = gridspec.GridSpec(1, 2, width_ratios=[1, 2])\n",
    "\n",
    "    ax0 = plt.subplot(gs[0])\n",
    "    ax0.plot(latent_states, estimates, 'r.')\n",
    "    ax0.plot(latent_states, latent_states, 'b')\n",
    "    ax0.set_xlabel('Latent State')\n",
    "    ax0.set_ylabel('Estimated State')\n",
    "    ax0.set_aspect('equal')\n",
    "\n",
    "    ax1 = plt.subplot(gs[1])\n",
    "    ax1.plot(latent_states, 'b', label = 'Latent State')\n",
    "    ax1.plot(estimates, 'r', label = 'Estimated State')\n",
    "\n",
    "    if goal is not None:\n",
    "        ax1.plot(goal, 'm--', label = 'goal')\n",
    "\n",
    "    ax1.set_xlabel('Time')\n",
    "    ax1.set_ylabel('State')\n",
    "    ax1.legend(loc=\"upper right\")\n",
    "    plt.tight_layout()\n",
    "    plt.show()"
   ]
  },
  {
   "cell_type": "code",
   "execution_count": 108,
   "id": "a9d0da5dd0eb75e3",
   "metadata": {
    "ExecuteTime": {
     "end_time": "2024-07-24T20:00:15.073416Z",
     "start_time": "2024-07-24T20:00:15.043639Z"
    },
    "collapsed": false,
    "jupyter": {
     "outputs_hidden": false
    }
   },
   "outputs": [],
   "source": [
    "T = 50\n",
    "standard_normal_noise = np.random.randn(T)\n",
    "standard_normal_noise_meas = np.random.randn(T)\n",
    "gaussian = namedtuple('Gaussian', ['mean', 'cov'])\n",
    "\n",
    "class ExerciseError(AssertionError):\n",
    "    pass\n",
    "\n",
    "\n",
    "def test_lds_class(lds_class):\n",
    "    from math import isclose\n",
    "    ldsys = lds_class(ini_state=2., noise_var=0.)\n",
    "    if not isclose(ldsys.dynamics(.9)[1], 1.8):\n",
    "        raise ExerciseError(\"'dynamics' method is not correctly implemented!\")\n",
    "    if not isclose(ldsys.dynamics_openloop(.9, 2., np.zeros(ldsys.T)-1.)[1], -0.2):\n",
    "        raise ExerciseError(\"'dynamics_openloop' method is not correctly implemented!\")\n",
    "    if not isclose(ldsys.dynamics_closedloop(.9, 2., np.zeros(ldsys.T)+.3)[0][1], 3.):\n",
    "        raise ExerciseError(\"s[t] in 'dynamics_closedloop' method is not correctly implemented!\")\n",
    "    if not isclose(ldsys.dynamics_closedloop(.9, 2., np.zeros(ldsys.T)+.3)[1][0], .6):\n",
    "        raise ExerciseError(\"a[t] in 'dynamics_closedloop' method is not correctly implemented!\")\n",
    "    ldsys.noise_var = 1.\n",
    "    if isclose(ldsys.dynamics(.9)[1], 1.8):\n",
    "        raise ExerciseError(\"Did you forget to add noise to your s[t+1] in 'dynamics'?\")\n",
    "    if isclose(ldsys.dynamics_openloop(.9, 2., np.zeros(ldsys.T)-1.)[1], -0.2):\n",
    "        raise ExerciseError(\"Did you forget to add noise to your s[t+1] in 'dynamics_openloop'?\")\n",
    "    if isclose(ldsys.dynamics_closedloop(.9, 2., np.zeros(ldsys.T)+.3)[0][1], 3.):\n",
    "        raise ExerciseError(\"Did you forget to add noise to your s[t+1] in 'dynamics_closedloop'?\")\n",
    "    if not isclose(ldsys.dynamics_closedloop(.9, 2., np.zeros(ldsys.T)+.3)[1][0], .6):\n",
    "        raise ExerciseError(\"Your input a[t] should not be noisy in 'dynamics_closedloop'.\")\n",
    "\n",
    "    print('Well Done!')\n",
    "\n",
    "\n",
    "def test_lqr_class(lqr_class):\n",
    "    from math import isclose\n",
    "    lqreg = lqr_class(ini_state=2., noise_var=0.)\n",
    "    lqreg.goal = np.array([-2, -2])\n",
    "    s = np.array([1, 2])\n",
    "    a = np.array([3, 4])\n",
    "    if not isclose(lqreg.calculate_J_state(s), 25):\n",
    "        raise ExerciseError(\"'calculate_J_state' method is not correctly implemented!\")\n",
    "    if not isclose(lqreg.calculate_J_control(a), 25):\n",
    "        raise ExerciseError(\"'calculate_J_control' method is not correctly implemented!\")\n",
    "\n",
    "    print('Well Done!')"
   ]
  },
  {
   "cell_type": "code",
   "execution_count": 109,
   "id": "7e77b1147e5fbcfe",
   "metadata": {
    "ExecuteTime": {
     "end_time": "2024-07-24T20:18:21.615801Z",
     "start_time": "2024-07-24T20:18:21.608629Z"
    },
    "collapsed": false,
    "jupyter": {
     "outputs_hidden": false
    }
   },
   "outputs": [
    {
     "name": "stdout",
     "output_type": "stream",
     "text": [
      "Well Done!\n"
     ]
    }
   ],
   "source": [
    "class LDS:\n",
    "    \"\"\"\n",
    "      T: Length of timeline (global, fixed variable)\n",
    "      standard_normal_noise: Global noise of length T drawn from N(0, 1)\n",
    "      noise: Gaussian noise N(mean, var) = mean + sqrt(var) * standard_normal_noise\n",
    "      ...\n",
    "    \"\"\"\n",
    "    def __init__(self, ini_state: float, noise_var: float, static_noise=False):\n",
    "        self.ini_state = ini_state\n",
    "        self.noise_var = noise_var\n",
    "        self.T = T\n",
    "        self.static_noise = static_noise\n",
    "\n",
    "    def dynamics(self, D: float):\n",
    "        s = np.zeros(T)  # states initialization\n",
    "        s[0] = self.ini_state\n",
    "        if self.static_noise:\n",
    "            noise = np.sqrt(self.noise_var) * standard_normal_noise\n",
    "        else:\n",
    "            noise = np.sqrt(self.noise_var) * np.random.randn(T)\n",
    "\n",
    "        for t in range(T - 1):\n",
    "            # calculate the state of t+1\n",
    "            s[t + 1] = D * s[t] + noise[t]\n",
    "\n",
    "        return s\n",
    "\n",
    "    def dynamics_openloop(self, D: float, B: float, a: np.ndarray):\n",
    "\n",
    "        s = np.zeros(T)  # states initialization\n",
    "        s[0] = self.ini_state\n",
    "        if self.static_noise:\n",
    "            noise = np.sqrt(self.noise_var) * standard_normal_noise\n",
    "        else:\n",
    "            noise = np.sqrt(self.noise_var) * np.random.randn(T)\n",
    "\n",
    "        for t in range(T - 1):\n",
    "            # calculate the state of t+1\n",
    "            s[t + 1] = D * s[t] + B * a[t] + noise[t]\n",
    "\n",
    "        return s\n",
    "\n",
    "    def dynamics_closedloop(self, D: float, B: float, L: np.ndarray):\n",
    "\n",
    "        s = np.zeros(T)  # states initialization\n",
    "        a = np.zeros(T - 1)\n",
    "        s[0] = self.ini_state\n",
    "\n",
    "        if self.static_noise:\n",
    "            noise = np.sqrt(self.noise_var) * standard_normal_noise\n",
    "        else:\n",
    "            noise = np.sqrt(self.noise_var) * np.random.randn(T)\n",
    "\n",
    "        for t in range(T - 1):\n",
    "            # calculate the current action\n",
    "            a[t] = L[t] * s[t]\n",
    "            # calculate the next state\n",
    "            s[t + 1] = D * s[t] + B * a[t] + noise[t]\n",
    "\n",
    "        return s, a\n",
    "\n",
    "\n",
    "# Test your function\n",
    "test_lds_class(LDS)"
   ]
  },
  {
   "cell_type": "code",
   "execution_count": 110,
   "id": "e0202b38f6ad683",
   "metadata": {
    "ExecuteTime": {
     "end_time": "2024-07-24T20:18:44.412059Z",
     "start_time": "2024-07-24T20:18:44.255464Z"
    },
    "collapsed": false,
    "jupyter": {
     "outputs_hidden": false
    }
   },
   "outputs": [
    {
     "data": {
      "application/vnd.jupyter.widget-view+json": {
       "model_id": "339c36cc47bb4fc8822b04b84cad8542",
       "version_major": 2,
       "version_minor": 0
      },
      "text/plain": [
       "interactive(children=(FloatSlider(value=0.95, description='D', max=1.05, min=0.85), FloatSlider(value=-0.3, de…"
      ]
     },
     "metadata": {},
     "output_type": "display_data"
    }
   ],
   "source": [
    "@widgets.interact(D=widgets.FloatSlider(0.95, description=\"D\", min=0.85, max=1.05),\n",
    "                  L=widgets.FloatSlider(-0.3, description=\"L\", min=-0.6, max=0.),\n",
    "                  a=widgets.FloatSlider(-1., description=\"a\", min=-2., max=1.),\n",
    "                  B=widgets.FloatSlider(2., description=\"B\", min=1., max=3.),\n",
    "                  noise_var=widgets.FloatSlider(.1, description=\"noise_var\", min=0., max=.2),\n",
    "                  ini_state=widgets.FloatSlider(2., description=\"ini_state\", min=2., max=10.))\n",
    "\n",
    "def simulate_lds(D=0.95, L=-0.3, a=-1., B=2., noise_var=0.1, ini_state=2.):\n",
    "    \"\"\"\n",
    "      ...\n",
    "    \"\"\"\n",
    "    static_noise = True\n",
    "\n",
    "    # linear dynamical system\n",
    "    lds = LDS(ini_state, noise_var, static_noise)\n",
    "\n",
    "    # No control\n",
    "    s_no_control=lds.dynamics(D)\n",
    "\n",
    "    # Open loop control\n",
    "    at = np.append(a, np.zeros(T - 1))\n",
    "    s_open_loop = lds.dynamics_openloop(D, B, at)\n",
    "\n",
    "    # Closed loop control\n",
    "    Lt =  np.zeros(T) + L\n",
    "    s_closed_loop, a_closed_loop = lds.dynamics_closedloop(D, B, Lt)\n",
    "\n",
    "    plt.figure(figsize=(10, 6))\n",
    "    plt.plot(s_no_control, 'b', label='No control')\n",
    "    plt.plot(s_open_loop, 'g', label='Open Loop with a = {}'.format(a))\n",
    "    plt.plot(s_closed_loop, 'r', label='Closed Loop with L = {}'.format(L))\n",
    "    plt.plot(np.zeros(T), 'm--', label='goal')\n",
    "    plt.title('LDS State Evolution')\n",
    "    plt.ylabel('State', fontsize=14)\n",
    "    plt.xlabel('Time', fontsize=14)\n",
    "    plt.legend(loc=\"upper right\")\n",
    "    plt.show()"
   ]
  },
  {
   "cell_type": "code",
   "execution_count": 111,
   "id": "4ff6bafe723a0018",
   "metadata": {
    "ExecuteTime": {
     "end_time": "2024-07-24T20:23:00.180895Z",
     "start_time": "2024-07-24T20:22:59.972054Z"
    },
    "collapsed": false,
    "jupyter": {
     "outputs_hidden": false
    }
   },
   "outputs": [
    {
     "data": {
      "image/png": "[encoded data removed]",
      "text/plain": [
       "<Figure size 640x480 with 1 Axes>"
      ]
     },
     "metadata": {},
     "output_type": "display_data"
    }
   ],
   "source": [
    "def calculate_plot_mse():\n",
    "    D, B, noise_var, ini_state = 1.1, 2., 0.1, 2.\n",
    "    num_iterations = 50\n",
    "    num_candidates = 100\n",
    "\n",
    "    control_gain_array = np.linspace(0.1, 1., num_candidates)\n",
    "    mse_array = np.zeros([num_candidates, num_iterations])\n",
    "\n",
    "    for j in range(num_iterations):\n",
    "        for i in range(num_candidates):\n",
    "            lds = LDS(ini_state, noise_var)\n",
    "            L = - np.ones(T) * control_gain_array[i]\n",
    "            s, a = lds.dynamics_closedloop(D, B, L)\n",
    "            mse_array[i, j] = np.sum(s**2)\n",
    "\n",
    "    opt = -control_gain_array[np.argmin(np.mean(mse_array, axis=1))]\n",
    "    plt.figure()\n",
    "    plt.plot(-control_gain_array, np.mean(mse_array, axis=1), 'b')\n",
    "    plt.axvline(x=-D/B, color='g', linestyle='--')\n",
    "    plt.xlabel(\"control gain (L)\", fontsize=14)\n",
    "    plt.ylabel(\"MSE between state and goal\" , fontsize=14)\n",
    "    plt.title(f\"MSE vs control gain, L*={opt:0.2f}\", fontsize=20)\n",
    "    plt.show()\n",
    "    return opt\n",
    "\n",
    "\n",
    "opt = calculate_plot_mse()"
   ]
  },
  {
   "cell_type": "code",
   "execution_count": 112,
   "id": "76980d85c45892f9",
   "metadata": {
    "collapsed": false,
    "jupyter": {
     "outputs_hidden": false
    }
   },
   "outputs": [
    {
     "data": {
      "application/vnd.jupyter.widget-view+json": {
       "model_id": "d479364b8cf8401580242224708c97a8",
       "version_major": 2,
       "version_minor": 0
      },
      "text/plain": [
       "interactive(children=(FloatSlider(value=-0.5363636363636364, description='L', max=0.051, min=-1.05), Output())…"
      ]
     },
     "metadata": {},
     "output_type": "display_data"
    }
   ],
   "source": [
    "@widgets.interact(L=widgets.FloatSlider(opt, description=\"L\",\n",
    "                                        min=-1.05, max=0.051))\n",
    "\n",
    "def simulate_L(L):\n",
    "    D, B, noise_var, ini_state = 1.1, 2., 0.1, 2.\n",
    "    static_noise  = True\n",
    "    lds = LDS(ini_state, noise_var, static_noise)\n",
    "    # Closed loop control with the numerical optimal control gain\n",
    "    Lt = np.ones(T) * L\n",
    "    s_closed_loop_choice, _ = lds.dynamics_closedloop(D, B, Lt)\n",
    "    # Closed loop control with the theoretical optimal control gain\n",
    "    L_theory = - D / B * np.ones(T)\n",
    "    s_closed_loop_theoretical, _ = lds.dynamics_closedloop(D, B, L_theory)\n",
    "    # Plotting closed loop state evolution with both theoretical and numerical optimal control gains\n",
    "    plt.figure(figsize=(10, 6))\n",
    "    plot_vs_time(s_closed_loop_theoretical,\n",
    "                 'Closed Loop (Theoretical optimal control gain)', 'b',\n",
    "                 show=False)\n",
    "    plot_vs_time(s_closed_loop_choice,\n",
    "                 f'Closed Loop (your choice of L = {L:.2f})', 'g',\n",
    "                 goal=np.zeros(T), ylabel=\"State\", show=False)\n",
    "    plt.title(f'Closed-loop State Evolution. L* = {opt:.2f}')\n",
    "    plt.show()"
   ]
  },
  {
   "cell_type": "code",
   "execution_count": 113,
   "id": "fc3451281aa602ab",
   "metadata": {
    "ExecuteTime": {
     "end_time": "2024-07-24T20:46:01.137143Z",
     "start_time": "2024-07-24T20:46:01.104462Z"
    },
    "collapsed": false,
    "jupyter": {
     "outputs_hidden": false
    }
   },
   "outputs": [
    {
     "name": "stdout",
     "output_type": "stream",
     "text": [
      "Well Done!\n"
     ]
    }
   ],
   "source": [
    "class LQR(LDS):\n",
    "    def __init__(self, ini_state, noise_var, static_noise=False):\n",
    "        super().__init__(ini_state, noise_var, static_noise)\n",
    "        self.T = T\n",
    "        self.goal = np.zeros(T)  # The class LQR only supports g=0\n",
    "\n",
    "    def control_gain_LQR(self, D, B, rho):\n",
    "        P = np.zeros(self.T)  # Dynamic programming variable\n",
    "        L = np.zeros(self.T - 1)  # control gain\n",
    "        P[-1] = 1\n",
    "        for t in range(self.T - 1):\n",
    "            P_t_1 = P[self.T - t - 1]\n",
    "            P[self.T - t-2] = (1 + P_t_1 * D**2 - D * P_t_1 * B / (rho + P_t_1 * B**2) * B * P_t_1 * D)\n",
    "            L[self.T - t-2] = - (1 / (rho + P_t_1 * B**2) * B * P_t_1 * D)\n",
    "        return L\n",
    "\n",
    "    def calculate_J_state(self, s:np.ndarray):\n",
    "\n",
    "        # calculate the state\n",
    "        J_state = np.sum((s - self.goal)**2)\n",
    "\n",
    "        return J_state\n",
    "\n",
    "    def calculate_J_control(self, a:np.ndarray):\n",
    "\n",
    "        # calculate the control\n",
    "        J_control = np.sum(a**2)\n",
    "\n",
    "        return J_control\n",
    "\n",
    "\n",
    "# Test class\n",
    "test_lqr_class(LQR)"
   ]
  },
  {
   "cell_type": "code",
   "execution_count": 114,
   "id": "1e3f71cf522ed683",
   "metadata": {
    "ExecuteTime": {
     "end_time": "2024-07-24T20:46:18.874881Z",
     "start_time": "2024-07-24T20:46:18.543063Z"
    },
    "collapsed": false,
    "jupyter": {
     "outputs_hidden": false
    }
   },
   "outputs": [
    {
     "data": {
      "application/vnd.jupyter.widget-view+json": {
       "model_id": "6e0c9da523894e849fcdfe73e6464050",
       "version_major": 2,
       "version_minor": 0
      },
      "text/plain": [
       "interactive(children=(FloatSlider(value=25.0, description='ρ', max=50.0), Output()), _dom_classes=('widget-int…"
      ]
     },
     "metadata": {},
     "output_type": "display_data"
    }
   ],
   "source": [
    "@widgets.interact(rho=widgets.FloatSlider(25.,\n",
    "                                          description=\"ρ\",\n",
    "                                          min=0., max=50.))\n",
    "\n",
    "def simulate_rho(rho=1.):\n",
    "    D, B, ini_state, noise_var = 1.1, 2., 1., .1  # state parameter\n",
    "    static_noise = True\n",
    "    lqr = LQR(ini_state, noise_var, static_noise)\n",
    "    L = lqr.control_gain_LQR(D, B, rho)\n",
    "    s_lqr, a_lqr = lqr.dynamics_closedloop(D, B, L)\n",
    "\n",
    "    plt.figure(figsize=(14, 4))\n",
    "    plt.suptitle('LQR Control for rho = {}'.format(rho), y=1.05)\n",
    "\n",
    "    plt.subplot(1, 3, 1)\n",
    "    plot_vs_time(s_lqr,'State evolution','b',goal=np.zeros(T), show=False)\n",
    "    plt.ylabel('State $s_t$')\n",
    "\n",
    "    plt.subplot(1, 3, 2)\n",
    "    plot_vs_time(a_lqr,'LQR Action','b', show=False)\n",
    "    plt.ylabel('Action $a_t$')\n",
    "\n",
    "    plt.subplot(1, 3, 3)\n",
    "    plot_vs_time(L,'Control Gain','b', show=False)\n",
    "    plt.ylabel('Control Gain $L_t$')\n",
    "\n",
    "    plt.tight_layout()\n",
    "    plt.show()"
   ]
  },
  {
   "cell_type": "code",
   "execution_count": 115,
   "id": "4ed2d69986e1a693",
   "metadata": {
    "ExecuteTime": {
     "end_time": "2024-07-24T20:54:35.800589Z",
     "start_time": "2024-07-24T20:54:35.781403Z"
    },
    "collapsed": false,
    "jupyter": {
     "outputs_hidden": false
    }
   },
   "outputs": [],
   "source": [
    "class LQR_tracking(LQR):\n",
    "    def __init__(self, ini_state, noise_var, goal):\n",
    "        super().__init__(ini_state, noise_var)\n",
    "        self.T = T\n",
    "        self.goal = goal\n",
    "\n",
    "    def dynamics_tracking(self, D, B, L):\n",
    "\n",
    "        s = np.zeros(self.T) # states intialization\n",
    "        s[0] = self.ini_state\n",
    "\n",
    "        noise = np.sqrt(self.noise_var) * standard_normal_noise\n",
    "\n",
    "        a = np.zeros(self.T) # control intialization\n",
    "        a_bar = np.zeros(self.T)\n",
    "        for t in range(self.T - 1):\n",
    "            a_bar[t] = ( - D * s[t] + self.goal[t + 1]) / B\n",
    "            a[t] =  L[t] * (s[t] - self.goal[t]) + a_bar[t]\n",
    "            s[t + 1] = D * s[t] + B * a[t] + noise[t]\n",
    "\n",
    "        return s, a, a_bar\n",
    "\n",
    "    def calculate_J_state(self,s):\n",
    "        J_state = np.sum((s-self.g)**2)\n",
    "        return J_state\n",
    "\n",
    "    def calculate_J_control(self, a, a_bar):\n",
    "        J_control = np.sum((a-a_bar)**2)\n",
    "        return J_control"
   ]
  },
  {
   "cell_type": "code",
   "execution_count": 116,
   "id": "4db7de5b8483a3f2",
   "metadata": {
    "ExecuteTime": {
     "end_time": "2024-07-24T20:54:47.969556Z",
     "start_time": "2024-07-24T20:54:47.789366Z"
    },
    "collapsed": false,
    "jupyter": {
     "outputs_hidden": false
    }
   },
   "outputs": [
    {
     "data": {
      "application/vnd.jupyter.widget-view+json": {
       "model_id": "7018d9fe21614b8b9fee76da104cc8c2",
       "version_major": 2,
       "version_minor": 0
      },
      "text/plain": [
       "interactive(children=(FloatSlider(value=20.0, description='ρ', max=40.0, min=0.1), FloatSlider(value=0.1, desc…"
      ]
     },
     "metadata": {},
     "output_type": "display_data"
    }
   ],
   "source": [
    "@widgets.interact(rho=widgets.FloatSlider(20., description=\"ρ\", min=0.1, max=40.),\n",
    "                  noise_var=widgets.FloatSlider(0.1, description=\"noise_var\", min=0., max=1.),\n",
    "                  goal_func=widgets.RadioButtons(options=['sin', 'step', 'ramp'],\n",
    "                                                 description='goal_func:',\n",
    "                                                 disabled=False))\n",
    "\n",
    "def simulate_tracking(rho, noise_var, goal_func):\n",
    "    D, B, ini_state = 1.1, 1., 0.\n",
    "    if goal_func == 'sin':\n",
    "        goal = np.sin(np.arange(T) * 2 * np.pi * 5 / T)\n",
    "    elif goal_func == 'step':\n",
    "        goal = np.zeros(T)\n",
    "        goal[int(T / 3):] = 1.\n",
    "    elif goal_func == 'ramp':\n",
    "        goal = np.zeros(T)\n",
    "        goal[int(T / 3):] = np.arange(T - int(T / 3)) / (T - int(T / 3))\n",
    "\n",
    "    lqr_time = LQR_tracking(ini_state, noise_var, goal)\n",
    "    L = lqr_time.control_gain_LQR(D, B, rho)\n",
    "    s_lqr_time, a_lqr_time, a_bar_lqr_time = lqr_time.dynamics_tracking(D, B, L)\n",
    "\n",
    "    plt.figure(figsize=(13, 5))\n",
    "    plt.suptitle('LQR Control for time-varying goal', y=1.05)\n",
    "    plt.subplot(1, 2, 1)\n",
    "    plot_vs_time(s_lqr_time, 'State evolution $s_t$', 'b',\n",
    "                 goal, ylabel=\"State\", show=False)\n",
    "    plt.subplot(1, 2, 2)\n",
    "    plot_vs_time(a_lqr_time, 'Action $a_t$', 'b',\n",
    "                 ylabel=\"Action\", show=False)\n",
    "    plt.show()"
   ]
  },
  {
   "cell_type": "code",
   "execution_count": 117,
   "id": "f95e376b98a02fd7",
   "metadata": {
    "ExecuteTime": {
     "end_time": "2024-07-24T21:04:06.657479Z",
     "start_time": "2024-07-24T21:04:06.623037Z"
    },
    "collapsed": false,
    "jupyter": {
     "outputs_hidden": false
    }
   },
   "outputs": [],
   "source": [
    "class KalmanFilter():\n",
    "    def __init__(self, transition_matrix, transition_covariance,\n",
    "                 observation_matrix, observation_covariance,\n",
    "                 initial_state_mean, initial_state_covariance):\n",
    "        self.D = transition_matrix\n",
    "        self.Q = transition_covariance\n",
    "        self.C = observation_matrix\n",
    "        self.R = observation_covariance\n",
    "        self.prior = gaussian(initial_state_mean, initial_state_covariance)\n",
    "\n",
    "    def get_estimate(self, m, a):\n",
    "\n",
    "        predicted_estimate = self.D * self.prior.mean + a\n",
    "        predicted_covariance = self.D**2 * self.prior.cov + self.Q\n",
    "\n",
    "        innovation_estimate = m - self.C * predicted_estimate\n",
    "        innovation_covariance = self.C**2 * predicted_covariance + self.R\n",
    "\n",
    "        # Kalman gain is the weight given to the innovation (ie., the difference between the measurement and the predicted measurement)\n",
    "        K = predicted_covariance * self.C / innovation_covariance\n",
    "        updated_mean = predicted_estimate + K * innovation_estimate\n",
    "        updated_cov = (1 - K * self.C) * predicted_covariance\n",
    "        posterior = gaussian(updated_mean, updated_cov)\n",
    "\n",
    "        # Current posterior becomes next-step prior\n",
    "        self.prior = posterior\n",
    "\n",
    "        return posterior.mean\n",
    "\n",
    "\n",
    "class LQG():\n",
    "    def __init__(self, transition_matrix, transition_covariance,\n",
    "                 observation_matrix, observation_covariance, initial_state_mean,\n",
    "                 initial_state_covariance, ntrials=1, static_noise=False):\n",
    "        self.D = transition_matrix\n",
    "        self.Q = transition_covariance\n",
    "        self.C = observation_matrix\n",
    "        self.R = observation_covariance\n",
    "        self.static_noise = static_noise\n",
    "        self.ntrials = ntrials\n",
    "        self.t = 0\n",
    "        self.latent_states = np.zeros([T, ntrials])\n",
    "        self.latent_states[0] = initial_state_mean + np.sqrt(initial_state_covariance) * standard_normal_noise[0]\n",
    "\n",
    "    def step(self, action):\n",
    "        self.t += 1\n",
    "        if self.static_noise:\n",
    "            self.latent_states[self.t] = self.D * self.latent_states[self.t-1] + action + np.sqrt(self.Q) * standard_normal_noise[self.t-1]\n",
    "            measurement = self.C * self.latent_states[self.t] + np.sqrt(self.R) * standard_normal_noise_meas[self.t]\n",
    "        else:\n",
    "            self.latent_states[self.t] = self.D * self.latent_states[self.t-1] + action + np.sqrt(self.Q) * np.random.randn(self.ntrials)\n",
    "            measurement = self.C * self.latent_states[self.t] + np.sqrt(self.R) * np.random.randn(self.ntrials)\n",
    "        return measurement\n",
    "\n",
    "    def get_control_gain_infinite(self, rho):\n",
    "        P = np.zeros(T)\n",
    "        L = np.zeros(T - 1)\n",
    "        P[-1] = 1\n",
    "\n",
    "        for t in range(T - 1):\n",
    "            P_t_1 = P[T - t - 1]\n",
    "            P[T - t-2] = (1 + P_t_1 * self.D**2 - self.D * P_t_1 / (rho + P_t_1) * P_t_1 * self.D)\n",
    "            L[T - t-2] = - (1 / (rho + P_t_1)* P_t_1 * self.D)\n",
    "\n",
    "        return L[0]\n",
    "\n",
    "\n",
    "def control_policy_LQG(control_gain, estimated_state):\n",
    "    current_action =  control_gain * estimated_state\n",
    "    return current_action"
   ]
  },
  {
   "cell_type": "code",
   "execution_count": 118,
   "id": "a561b1fdbc10ee91",
   "metadata": {
    "ExecuteTime": {
     "end_time": "2024-07-24T21:04:22.100778Z",
     "start_time": "2024-07-24T21:04:21.980801Z"
    },
    "collapsed": false,
    "jupyter": {
     "outputs_hidden": false
    }
   },
   "outputs": [
    {
     "data": {
      "application/vnd.jupyter.widget-view+json": {
       "model_id": "4cfcbe2eda714cfd963b8ef3caa00e82",
       "version_major": 2,
       "version_minor": 0
      },
      "text/plain": [
       "interactive(children=(FloatSlider(value=1.0, description='C', max=3.0), FloatSlider(value=0.1, description='pr…"
      ]
     },
     "metadata": {},
     "output_type": "display_data"
    }
   ],
   "source": [
    "@widgets.interact(C = widgets.FloatSlider(1., description=\"C\", min=0., max=3.),\n",
    "                  proc_noise = widgets.FloatSlider(.1, description=\"proc_noise\", min=0.0, max=1.),\n",
    "                  meas_noise = widgets.FloatSlider(.2, description=\"meas_noise\", min=0.1, max=1.))\n",
    "\n",
    "def simulate_kf_no_control(C, proc_noise, meas_noise):\n",
    "\n",
    "    D = 0.9\n",
    "    ini_state_mean = 5.\n",
    "    ini_state_cov = .1\n",
    "    estimates = np.zeros(T)\n",
    "    estimates[0] = ini_state_mean\n",
    "\n",
    "    filter = KalmanFilter(transition_matrix=D,\n",
    "                          transition_covariance=proc_noise,\n",
    "                          observation_matrix=C,\n",
    "                          observation_covariance=meas_noise,\n",
    "                          initial_state_mean=ini_state_mean,\n",
    "                          initial_state_covariance=ini_state_cov)\n",
    "\n",
    "    system = LQG(transition_matrix=D,\n",
    "                 transition_covariance=proc_noise,\n",
    "                 observation_matrix=C,\n",
    "                 observation_covariance=meas_noise,\n",
    "                 initial_state_mean=ini_state_mean,\n",
    "                 initial_state_covariance=ini_state_cov,\n",
    "                 static_noise=False)\n",
    "\n",
    "    action = 0\n",
    "    for t in range(1, T):\n",
    "        measurement = system.step(action)\n",
    "        estimates[t] = filter.get_estimate(measurement, action)\n",
    "\n",
    "    plot_kf_state_vs_time(system.latent_states, estimates,\n",
    "                          'State estimation with KF (Stable system without control input)')"
   ]
  },
  {
   "cell_type": "code",
   "execution_count": 119,
   "id": "12776410a11bd524",
   "metadata": {
    "collapsed": false,
    "jupyter": {
     "outputs_hidden": false
    }
   },
   "outputs": [
    {
     "data": {
      "application/vnd.jupyter.widget-view+json": {
       "model_id": "4e4e987b065d47e6b59c1459947fa28e",
       "version_major": 2,
       "version_minor": 0
      },
      "text/plain": [
       "interactive(children=(FloatSlider(value=1.0, description='C', max=3.0), FloatSlider(value=-0.3, description='L…"
      ]
     },
     "metadata": {},
     "output_type": "display_data"
    }
   ],
   "source": [
    "@widgets.interact(C = widgets.FloatSlider(1., description=\"C\", min=0., max=3.),\n",
    "                  L = widgets.FloatSlider(-.3, description=\"L\", min=-.5, max=0.),\n",
    "                  proc_noise = widgets.FloatSlider(.1, description=\"proc_noise\", min=0.0, max=1.),\n",
    "                  meas_noise = widgets.FloatSlider(.2, description=\"meas_noise\", min=0.1, max=1.))\n",
    "\n",
    "\n",
    "def simulate_kf_with_control(C, L, proc_noise, meas_noise):\n",
    "\n",
    "  D = 1.1\n",
    "  ini_state_mean = 5.\n",
    "  ini_state_cov = .1\n",
    "  estimates = np.zeros(T)\n",
    "  estimates[0] = ini_state_mean\n",
    "  control_gain = L\n",
    "\n",
    "  filter = KalmanFilter(transition_matrix=D,\n",
    "                        transition_covariance=proc_noise,\n",
    "                        observation_matrix=C,\n",
    "                        observation_covariance=meas_noise,\n",
    "                        initial_state_mean=ini_state_mean,\n",
    "                        initial_state_covariance=ini_state_cov)\n",
    "\n",
    "  system = LQG(transition_matrix=D,\n",
    "               transition_covariance=proc_noise,\n",
    "               observation_matrix=C,\n",
    "               observation_covariance=meas_noise,\n",
    "               initial_state_mean=ini_state_mean,\n",
    "               initial_state_covariance=ini_state_cov,\n",
    "               static_noise=True)\n",
    "\n",
    "  action = 0\n",
    "  for t in range(1, T):\n",
    "    measurement = system.step(action)\n",
    "    estimates[t] = filter.get_estimate(measurement, action)\n",
    "    action = control_policy_LQG(control_gain, estimates[t])\n",
    "\n",
    "  title = f'State estimation with KF (control gain = {control_gain})'\n",
    "  plot_kf_state_vs_time(system.latent_states, estimates, title,\n",
    "                        goal=np.zeros(T))"
   ]
  },
  {
   "cell_type": "code",
   "execution_count": null,
   "id": "abc80a50-fc67-4238-b970-a1ced878c288",
   "metadata": {},
   "outputs": [],
   "source": []
  }
 ],
 "metadata": {
  "kernelspec": {
   "display_name": "Python 3 (ipykernel)",
   "language": "python",
   "name": "python3"
  },
  "language_info": {
   "codemirror_mode": {
    "name": "ipython",
    "version": 3
   },
   "file_extension": ".py",
   "mimetype": "text/x-python",
   "name": "python",
   "nbconvert_exporter": "python",
   "pygments_lexer": "ipython3",
   "version": "3.11.3"
  }
 },
 "nbformat": 4,
 "nbformat_minor": 5
}
