{
 "cells": [
  {
   "cell_type": "code",
   "execution_count": 1,
   "id": "initial_id",
   "metadata": {
    "ExecuteTime": {
     "end_time": "2024-07-07T21:34:01.932096Z",
     "start_time": "2024-07-07T21:34:01.088824Z"
    }
   },
   "outputs": [],
   "source": [
    "import numpy as np\n",
    "import scipy.optimize as opt  # import root-finding algorithm\n",
    "import sympy as sp  # Python toolbox for symbolic maths\n",
    "import matplotlib.pyplot as plt\n",
    "from mpl_toolkits.mplot3d import Axes3D  # Toolbox for rendring 3D figures\n",
    "from mpl_toolkits import mplot3d  # Toolbox for rendring 3D figures\n",
    "\n",
    "# @title Figure Settings\n",
    "import logging\n",
    "import ipywidgets as widgets  # interactive display\n",
    "from ipywidgets import interact\n",
    "# \n",
    "# fig_w, fig_h = 12, 4.5\n",
    "# my_fontsize = 16\n",
    "# my_params = {'axes.labelsize': my_fontsize,\n",
    "#              'axes.titlesize': my_fontsize,\n",
    "#              'figure.figsize': [fig_w, fig_h],\n",
    "#              'font.size': my_fontsize,\n",
    "#              'legend.fontsize': my_fontsize-4,\n",
    "#              'lines.markersize': 8.,\n",
    "#              'lines.linewidth': 2.,\n",
    "#              'xtick.labelsize': my_fontsize-2,\n",
    "#              'ytick.labelsize': my_fontsize-2}\n"
   ]
  },
  {
   "cell_type": "code",
   "execution_count": 2,
   "id": "57931fcfc8e69219",
   "metadata": {
    "ExecuteTime": {
     "end_time": "2024-07-07T21:34:01.939990Z",
     "start_time": "2024-07-07T21:34:01.932293Z"
    },
    "collapsed": false
   },
   "outputs": [],
   "source": [
    "def move_sympyplot_to_axes(p, ax):\n",
    "    backend = p.backend(p)\n",
    "    backend.ax = ax\n",
    "    backend.process_series()\n",
    "    backend.ax.spines['right'].set_color('none')\n",
    "    backend.ax.spines['bottom'].set_position('zero')\n",
    "    backend.ax.spines['top'].set_color('none')\n",
    "    plt.close(backend.fig)\n",
    "\n",
    "def plot_functions(function, show_derivative, show_integral):\n",
    "    # For sympy we first define our symbolic variable\n",
    "    x, y, z, t, f = sp.symbols('x y z t f')\n",
    "\n",
    "    # We define our function\n",
    "    if function == 'Linear':\n",
    "        f = -2*t\n",
    "        name = r'$-2t$'\n",
    "    elif function == 'Parabolic':\n",
    "        f =  t**2\n",
    "        name = r'$t^2$'\n",
    "    elif function == 'Exponential':\n",
    "        f =  sp.exp(t)\n",
    "        name = r'$e^t$'\n",
    "    elif function == 'Sine':\n",
    "        f =  sp.sin(t)\n",
    "        name = r'$sin(t)$'\n",
    "    elif function == 'Sigmoid':\n",
    "        f = 1/(1 + sp.exp(-(t-5)))\n",
    "        name = r'$\\frac{1}{1+e^{-(t-5)}}$'\n",
    "\n",
    "    if show_derivative and not show_integral:\n",
    "        # Calculate the derivative of sin(t) as a function of t\n",
    "        diff_f = sp.diff(f)\n",
    "        print('Derivative of', f, 'is ', diff_f)\n",
    "\n",
    "        p1 = sp.plot(f, diff_f, show=False)\n",
    "        p1[0].line_color='r'\n",
    "        p1[1].line_color='b'\n",
    "        p1[0].label='Function'\n",
    "        p1[1].label='Derivative'\n",
    "        p1.legend=True\n",
    "        p1.title = 'Function = ' + name + '\\n'\n",
    "        p1.show()\n",
    "    elif show_integral and not show_derivative:\n",
    "        int_f = sp.integrate(f)\n",
    "        int_f = int_f - int_f.subs(t, -10)\n",
    "        print('Integral of', f, 'is ', int_f)\n",
    "\n",
    "        p1 = sp.plot(f, int_f, show=False)\n",
    "        p1[0].line_color='r'\n",
    "        p1[1].line_color='g'\n",
    "        p1[0].label='Function'\n",
    "        p1[1].label='Integral'\n",
    "        p1.legend=True\n",
    "        p1.title = 'Function = ' + name + '\\n'\n",
    "        p1.show()\n",
    "\n",
    "\n",
    "    elif show_integral and show_derivative:\n",
    "        diff_f = sp.diff(f)\n",
    "        print('Derivative of', f, 'is ', diff_f)\n",
    "\n",
    "        int_f = sp.integrate(f)\n",
    "        int_f = int_f - int_f.subs(t, -10)\n",
    "        print('Integral of', f, 'is ', int_f)\n",
    "\n",
    "        p1 = sp.plot(f, diff_f, int_f, show=False)\n",
    "        p1[0].line_color='r'\n",
    "        p1[1].line_color='b'\n",
    "        p1[2].line_color='g'\n",
    "        p1[0].label='Function'\n",
    "        p1[1].label='Derivative'\n",
    "        p1[2].label='Integral'\n",
    "        p1.legend=True\n",
    "        p1.title = 'Function = ' + name + '\\n'\n",
    "        p1.show()\n",
    "\n",
    "    else:\n",
    "        p1 = sp.plot(f, show=False)\n",
    "        p1[0].line_color='r'\n",
    "        p1[0].label='Function'\n",
    "        p1.legend=True\n",
    "        p1.title = 'Function = ' + name + '\\n'\n",
    "        p1.show()\n",
    "\n",
    "\n",
    "def plot_alpha_func(t, f, df_dt):\n",
    "    plt.figure()\n",
    "    plt.subplot(2,1,1)\n",
    "    plt.plot(t, f, 'r', label='Alpha function')\n",
    "    plt.xlabel('Time (au)')\n",
    "    plt.ylabel('Voltage')\n",
    "    plt.title('Alpha function (f(t))')\n",
    "    #plt.legend()\n",
    "\n",
    "    plt.subplot(2,1,2)\n",
    "    plt.plot(t, df_dt, 'b', label='Derivative')\n",
    "    plt.title('Derivative of alpha function')\n",
    "    plt.xlabel('Time (au)')\n",
    "    plt.ylabel('df/dt')\n",
    "    #plt.legend()\n",
    "\n",
    "\n",
    "def plot_charge_transfer(t, PSP, numerical_integral):\n",
    "    fig, axes = plt.subplots(1, 2)\n",
    "    axes[0].plot(t, PSP)\n",
    "    axes[0].set(xlabel = 't', ylabel = 'PSP')\n",
    "    axes[1].plot(t, numerical_integral)\n",
    "    axes[1].set(xlabel = 't', ylabel = 'Charge Transferred')"
   ]
  },
  {
   "cell_type": "code",
   "execution_count": 3,
   "id": "aa95ea6bac5b24b0",
   "metadata": {
    "ExecuteTime": {
     "end_time": "2024-07-07T21:34:02.039108Z",
     "start_time": "2024-07-07T21:34:01.941366Z"
    },
    "collapsed": false
   },
   "outputs": [
    {
     "data": {
      "image/png": "[encoded data removed]",
      "text/plain": [
       "<Figure size 640x480 with 2 Axes>"
      ]
     },
     "metadata": {},
     "output_type": "display_data"
    }
   ],
   "source": [
    "# Define time, time constant\n",
    "t = np.arange(0, 10, .1)\n",
    "tau = 0.5\n",
    "\n",
    "# Compute alpha function\n",
    "f = t * np.exp(-t/tau)\n",
    "\n",
    "# Define u(t), v(t)\n",
    "u_t = t\n",
    "v_t = np.exp(-t/tau)\n",
    "\n",
    "# Define du/dt, dv/dt\n",
    "du_dt = 1 \n",
    "dv_dt = -1 * (1/tau) * np.exp(-t / tau)\n",
    "\n",
    "# Define full derivative\n",
    "df_dt = u_t * dv_dt + v_t * du_dt\n",
    "\n",
    "# Visualize\n",
    "plot_alpha_func(t, f, df_dt)"
   ]
  },
  {
   "cell_type": "code",
   "execution_count": 4,
   "id": "53c40231a14e4ae3",
   "metadata": {
    "ExecuteTime": {
     "end_time": "2024-07-07T21:34:02.089871Z",
     "start_time": "2024-07-07T21:34:02.039048Z"
    },
    "collapsed": false
   },
   "outputs": [
    {
     "name": "stdout",
     "output_type": "stream",
     "text": [
      "Derivative of 1/(exp(5 - t) + 1) is  exp(5 - t)/(exp(5 - t) + 1)**2\n"
     ]
    }
   ],
   "source": [
    "f, t = sp.symbols('f, t')\n",
    "\n",
    "# Function definition (sigmoid)\n",
    "f = 1/(1 + sp.exp(-(t-5)))\n",
    "\n",
    "# Get the derivative\n",
    "diff_f = sp.diff(f)\n",
    "\n",
    "# Print the resulting function\n",
    "print('Derivative of', f, 'is ', diff_f)"
   ]
  },
  {
   "cell_type": "code",
   "execution_count": 5,
   "id": "279ef38705572182",
   "metadata": {
    "ExecuteTime": {
     "end_time": "2024-07-07T21:38:04.815584Z",
     "start_time": "2024-07-07T21:38:04.685636Z"
    },
    "collapsed": false
   },
   "outputs": [
    {
     "data": {
      "application/vnd.jupyter.widget-view+json": {
       "model_id": "160e7922d7b3434a9e7699e4cbd269ce",
       "version_major": 2,
       "version_minor": 0
      },
      "text/plain": [
       "interactive(children=(FloatSlider(value=0.2, description='h', max=0.5, min=0.01, step=0.02), Output()), _dom_c…"
      ]
     },
     "metadata": {},
     "output_type": "display_data"
    }
   ],
   "source": [
    "# @markdown *Execute this cell to enable the widget.*\n",
    "def numerical_derivative_demo(h = 0.2):\n",
    "    # Now lets create a sequence of numbers which change according to the sine function\n",
    "    dt = 0.01\n",
    "    tx = np.arange(-10, 10, dt)\n",
    "    sine_fun = np.sin(tx)\n",
    "\n",
    "    # symbolic diffrentiation tells us that the derivative of sin(t) is cos(t)\n",
    "    cos_fun = np.cos(tx)\n",
    "\n",
    "    # Numerical derivative using difference formula\n",
    "    n_tx = np.arange(-10,10,h) # create new time axis\n",
    "    n_sine_fun = np.sin(n_tx) # calculate the sine function on the new time axis\n",
    "    sine_diff = (n_sine_fun[1:] - n_sine_fun[0:-1]) / h\n",
    "\n",
    "    fig = plt.figure()\n",
    "    ax = plt.subplot(111)\n",
    "    plt.plot(tx, sine_fun, label='sine function')\n",
    "    plt.plot(tx, cos_fun, label='analytical derivative of sine')\n",
    "\n",
    "    # notice that numerical derivative will have one element less\n",
    "    plt.plot(n_tx[0:-1], sine_diff, label='numerical derivative of sine')\n",
    "    plt.xlim([-10, 10])\n",
    "    plt.xlabel('Time (au)')\n",
    "    plt.ylabel('f(x) or df(x)/dt')\n",
    "    ax.legend(loc='upper center', bbox_to_anchor=(0.5, 1.05),\n",
    "              ncol=3, fancybox=True)\n",
    "    plt.show()\n",
    "\n",
    "_ = interact(numerical_derivative_demo, h = (0.01, 0.5, .02))"
   ]
  },
  {
   "cell_type": "code",
   "execution_count": 6,
   "id": "6201b9678080ed2d",
   "metadata": {
    "ExecuteTime": {
     "end_time": "2024-07-07T21:45:01.172035Z",
     "start_time": "2024-07-07T21:45:01.064151Z"
    },
    "collapsed": false
   },
   "outputs": [
    {
     "data": {
      "application/vnd.jupyter.widget-view+json": {
       "model_id": "26fcaa82bfa3452188d9205addcd71aa",
       "version_major": 2,
       "version_minor": 0
      },
      "text/plain": [
       "interactive(children=(FloatSlider(value=1.24, description='a', max=2.0, min=0.5, step=0.02), FloatSlider(value…"
      ]
     },
     "metadata": {},
     "output_type": "display_data"
    }
   ],
   "source": [
    "def compute_rate_and_gain(I, a, theta, current_timestep):\n",
    "    \"\"\" Compute rate and gain of neuron based on parameters\n",
    "  \n",
    "    Args:\n",
    "      I (ndarray): different possible values of the current\n",
    "      a (scalar): parameter of the transfer function\n",
    "      theta (scalar): parameter of the transfer function\n",
    "      current_timestep (scalar): the time we're using to take steps\n",
    "  \n",
    "    Returns:\n",
    "      (ndarray, ndarray): rate and gain for each possible value of I\n",
    "    \"\"\"\n",
    "\n",
    "    # Compute rate\n",
    "    rate = (1+np.exp(-a*(I-theta)))**-1 - (1+np.exp(a*theta))**-1\n",
    "\n",
    "    # Compute gain using a numerical derivative\n",
    "    gain = (rate[1:] - rate[0:-1])/current_timestep\n",
    "\n",
    "    return rate, gain\n",
    "\n",
    "# @markdown Execute this cell to enable the widget\n",
    "\n",
    "def plot_rate_and_gain(a, theta, I_mean):\n",
    "\n",
    "    current_timestep = 0.1\n",
    "\n",
    "    # Compute I\n",
    "    I = np.arange(0, 8, current_timestep)\n",
    "\n",
    "    rate, gain = compute_rate_and_gain(I, a, theta, current_timestep)\n",
    "    I_1 = I_mean - current_timestep/2\n",
    "    rate_1 = (1+np.exp(-a*(I_1-theta)))**-1 - (1+np.exp(a*theta))**-1\n",
    "    I_2 = I_mean + current_timestep/2\n",
    "    rate_2 = (1+np.exp(-a*(I_2-theta)))**-1 - (1+np.exp(a*theta))**-1\n",
    "\n",
    "    input_range = I_2-I_1\n",
    "    output_range = rate_2 - rate_1\n",
    "\n",
    "    # Visualize rate and gain\n",
    "    plt.subplot(1,2,1)\n",
    "    plt.plot(I,rate)\n",
    "    plt.plot([I_1,I_1],[0, rate_1],color='r')\n",
    "    plt.plot([0,I_1],[rate_1, rate_1],color='b')\n",
    "    plt.plot([I_2,I_2],[0, rate_2],color='r')\n",
    "    plt.plot([0,I_2],[rate_2, rate_2],color='b')\n",
    "    plt.xlim([0, 8])\n",
    "    low, high = plt.ylim()\n",
    "    plt.ylim([0, high])\n",
    "\n",
    "    plt.xlabel('Injected current (au)')\n",
    "    plt.ylabel('Output firing rate (normalized)')\n",
    "    plt.title('Transfer function')\n",
    "\n",
    "    plt.text(2, 1.3, 'Output-Input Ratio =' + str(np.round(1000*output_range/input_range)/1000), style='italic',\n",
    "             bbox={'facecolor': 'red', 'alpha': 0.5, 'pad': 10})\n",
    "    plt.subplot(1,2,2)\n",
    "    plt.plot(I[0:-1], gain)\n",
    "    plt.plot([I_mean, I_mean],[0,0.6],color='r')\n",
    "    plt.xlabel('Injected current (au)')\n",
    "    plt.ylabel('Gain')\n",
    "    plt.title('Gain')\n",
    "    plt.xlim([0, 8])\n",
    "    low, high = plt.ylim()\n",
    "    plt.ylim([0, high])\n",
    "\n",
    "_ = widgets.interact(plot_rate_and_gain, a = (0.5, 2.0, .02), theta=(1.2,4.0,0.1), I_mean= (0.5,8.0,0.1))"
   ]
  },
  {
   "cell_type": "code",
   "execution_count": 7,
   "id": "30f5a663f297daaa",
   "metadata": {
    "collapsed": false
   },
   "outputs": [
    {
     "data": {
      "application/vnd.jupyter.widget-view+json": {
       "model_id": "cede41b7db774f62a1a970faeffd4454",
       "version_major": 2,
       "version_minor": 0
      },
      "text/plain": [
       "interactive(children=(Text(value='x**2 + 2*x*y + y**2', description='f2d_string'), Output()), _dom_classes=('w…"
      ]
     },
     "metadata": {},
     "output_type": "display_data"
    }
   ],
   "source": [
    "@interact(f2d_string = 'x**2 + 2*x*y + y**2')\n",
    "def plot_partial_derivs(f2d_string):\n",
    "    f, x, y = sp.symbols('f, x, y')\n",
    "\n",
    "    f2d = eval(f2d_string)\n",
    "    f2d_dx = sp.diff(f2d,x)\n",
    "    f2d_dy = sp.diff(f2d,y)\n",
    "\n",
    "    print('Partial derivative of ', f2d, 'with respect to x is', f2d_dx)\n",
    "    print('Partial derivative of ', f2d, 'with respect to y is', f2d_dy)\n",
    "\n",
    "    p1 = sp.plotting.plot3d(f2d, (x, -5, 5), (y, -5, 5),show=True,xlabel='x', ylabel='y', zlabel='f(x,y)',title='Our function')\n",
    "\n",
    "    p2 = sp.plotting.plot3d(f2d_dx, (x, -5, 5), (y, -5, 5),show=True,xlabel='x', ylabel='y', zlabel='df(x,y)/dx',title='Derivative w.r.t. x')\n",
    "\n",
    "    p3 = sp.plotting.plot3d(f2d_dy, (x, -5, 5), (y, -5, 5),show=True,xlabel='x', ylabel='y', zlabel='df(x,y)/dy',title='Derivative w.r.t. y')"
   ]
  },
  {
   "cell_type": "code",
   "execution_count": null,
   "outputs": [],
   "source": [
    "def riemann_sum_demo(dt = 0.5):\n",
    "    step_size = 0.1\n",
    "    min_val = 0.\n",
    "    max_val = 10.\n",
    "    tx = np.arange(min_val, max_val, step_size)\n",
    "\n",
    "    # Our function\n",
    "    ftn = tx**2 - tx + 1\n",
    "    # And the integral analytical formula calculates using sympy\n",
    "    int_ftn = tx**3/3 - tx**2/2 + tx\n",
    "\n",
    "    # Numerical integration of f(t) using Riemann Sum\n",
    "    n = int((max_val-min_val)/dt)\n",
    "    r_tx = np.zeros(n)\n",
    "    fun_value = np.zeros(n)\n",
    "    for ii in range(n):\n",
    "        a = min_val+ii*dt\n",
    "        fun_value[ii] = a**2 - a + 1\n",
    "        r_tx[ii] = a;\n",
    "\n",
    "    # Riemann sum is just cumulative sum of the fun_value multiplied by the\n",
    "    r_sum = np.cumsum(fun_value)*dt\n",
    "    with plt.xkcd():\n",
    "        plt.figure(figsize=(20,5))\n",
    "        ax = plt.subplot(1,2,1)\n",
    "        plt.plot(tx,ftn,label='Function')\n",
    "\n",
    "        for ii in range(n):\n",
    "            plt.plot([r_tx[ii], r_tx[ii], r_tx[ii]+dt, r_tx[ii]+dt], [0, fun_value[ii], fun_value[ii], 0] ,color='r')\n",
    "\n",
    "        plt.xlabel('Time (au)')\n",
    "        plt.ylabel('f(t)')\n",
    "        plt.title('f(t)')\n",
    "        plt.grid()\n",
    "\n",
    "        plt.subplot(1,2,2)\n",
    "        plt.plot(tx,int_ftn,label='Analytical')\n",
    "        plt.plot(r_tx+dt,r_sum,color = 'r',label='Riemann Sum')\n",
    "        plt.xlabel('Time (au)')\n",
    "        plt.ylabel('int(f(t))')\n",
    "        plt.title('Integral of f(t)')\n",
    "        plt.grid()\n",
    "        plt.legend()\n",
    "        plt.show()\n",
    "\n",
    "\n",
    "_ = widgets.interact(riemann_sum_demo, dt = (0.1, 1., .02))"
   ],
   "metadata": {
    "collapsed": false
   },
   "id": "bf00a17c7c2050ab"
  },
  {
   "cell_type": "code",
   "execution_count": 12,
   "outputs": [
    {
     "data": {
      "text/plain": "<Figure size 640x480 with 2 Axes>",
      "image/png": "[encoded data removed]"
     },
     "metadata": {},
     "output_type": "display_data"
    }
   ],
   "source": [
    "# Set up parameters\n",
    "J = 1\n",
    "tau_s = 1\n",
    "t_sp = 1\n",
    "dt = .1\n",
    "t = np.arange(0, 10, dt)\n",
    "\n",
    "# Code PSP formula\n",
    "PSP = J * t * np.exp(-1 * (t - tau_s) / t_sp) \n",
    "\n",
    "# Compute numerical integral\n",
    "# We already have PSP at every time step (height of rectangles). We need to\n",
    "#.  multiply by width of rectangles (dt) to get areas\n",
    "rectangle_areas = PSP * dt\n",
    "\n",
    "# Cumulatively sum rectangles (hint: use np.cumsum)\n",
    "numerical_integral = np.cumsum(rectangle_areas)\n",
    "\n",
    "# Visualize\n",
    "plot_charge_transfer(t, PSP, numerical_integral)"
   ],
   "metadata": {
    "collapsed": false,
    "ExecuteTime": {
     "end_time": "2024-07-08T15:50:13.741172Z",
     "start_time": "2024-07-08T15:50:13.672304Z"
    }
   },
   "id": "9f56ad125b171641"
  },
  {
   "cell_type": "code",
   "execution_count": null,
   "outputs": [],
   "source": [],
   "metadata": {
    "collapsed": false
   },
   "id": "33a5661c2e30389f"
  }
 ],
 "metadata": {
  "kernelspec": {
   "display_name": "Python 3 (ipykernel)",
   "language": "python",
   "name": "python3"
  },
  "language_info": {
   "codemirror_mode": {
    "name": "ipython",
    "version": 3
   },
   "file_extension": ".py",
   "mimetype": "text/x-python",
   "name": "python",
   "nbconvert_exporter": "python",
   "pygments_lexer": "ipython3",
   "version": "3.11.3"
  }
 },
 "nbformat": 4,
 "nbformat_minor": 5
}
